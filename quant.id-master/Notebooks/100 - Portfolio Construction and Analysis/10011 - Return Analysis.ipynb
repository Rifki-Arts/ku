{
 "cells": [
  {
   "cell_type": "markdown",
   "metadata": {},
   "source": [
    "**Keuntungan** (Inggris: ***return***) adalah prosentase perubahan nilai terhadap nilai awal. Misalnya investasi awal adalah satu juta rupiah, lalu dalam satu tahun investasinya berkembang menjadi 1,1 juta rupiah, maka keuntungannya adalah 10%, atau 0.10. Dalam tulisan ini kita akan melakukan analisa terhadap angka-angka keuntungan sebagai bagian dari analisa portfolio."
   ]
  },
  {
   "cell_type": "markdown",
   "metadata": {},
   "source": [
    "## Definisi\n",
    "\n",
    "Keuntungan (*Return*) didefinisikan sebagai:\n",
    "\n",
    "$$ R_{t-1,t} = \\frac{P_t - P_{t-1}}{P_{t-1}} $$\n",
    "\n",
    "dimana:\n",
    "* $R_{t-1,t}$   : keuntungan (*return*) untuk rentang waktu *t-1* sampai *t*\n",
    "* $P_t$   : (nilai) portfolio pada waktu *t*\n",
    "* $P_{t-1}$ : (nilai) portfolio pada waktu *t-1*\n"
   ]
  },
  {
   "cell_type": "markdown",
   "metadata": {
    "collapsed": true
   },
   "source": [
    "## Karakterisasi dari Keuntungan\n",
    "\n",
    "Mari kita sintesa data **`prices`** yang berisi harga dua buah aset (katakanlah namanya ***\"Biru\"*** dan ***\"Oranye\"***) dalam rentang 12 bulan (catatan: karena rentangnya 12 bulan, maka ada 13 baris harga)."
   ]
  },
  {
   "cell_type": "code",
   "execution_count": 25,
   "metadata": {
    "collapsed": false
   },
   "outputs": [
    {
     "data": {
      "text/html": [
       "<div>\n",
       "<style scoped>\n",
       "    .dataframe tbody tr th:only-of-type {\n",
       "        vertical-align: middle;\n",
       "    }\n",
       "\n",
       "    .dataframe tbody tr th {\n",
       "        vertical-align: top;\n",
       "    }\n",
       "\n",
       "    .dataframe thead th {\n",
       "        text-align: right;\n",
       "    }\n",
       "</style>\n",
       "<table border=\"1\" class=\"dataframe\">\n",
       "  <thead>\n",
       "    <tr style=\"text-align: right;\">\n",
       "      <th></th>\n",
       "      <th>Biru</th>\n",
       "      <th>Oranye</th>\n",
       "    </tr>\n",
       "    <tr>\n",
       "      <th>Bulan</th>\n",
       "      <th></th>\n",
       "      <th></th>\n",
       "    </tr>\n",
       "  </thead>\n",
       "  <tbody>\n",
       "    <tr>\n",
       "      <th>0</th>\n",
       "      <td>8.7000</td>\n",
       "      <td>10.6600</td>\n",
       "    </tr>\n",
       "    <tr>\n",
       "      <th>1</th>\n",
       "      <td>8.9055</td>\n",
       "      <td>11.0828</td>\n",
       "    </tr>\n",
       "    <tr>\n",
       "      <th>2</th>\n",
       "      <td>8.7113</td>\n",
       "      <td>10.7100</td>\n",
       "    </tr>\n",
       "    <tr>\n",
       "      <th>3</th>\n",
       "      <td>8.4346</td>\n",
       "      <td>11.5907</td>\n",
       "    </tr>\n",
       "    <tr>\n",
       "      <th>4</th>\n",
       "      <td>8.7254</td>\n",
       "      <td>12.1070</td>\n",
       "    </tr>\n",
       "    <tr>\n",
       "      <th>5</th>\n",
       "      <td>9.0551</td>\n",
       "      <td>11.7876</td>\n",
       "    </tr>\n",
       "    <tr>\n",
       "      <th>6</th>\n",
       "      <td>8.9514</td>\n",
       "      <td>11.2078</td>\n",
       "    </tr>\n",
       "    <tr>\n",
       "      <th>7</th>\n",
       "      <td>9.2439</td>\n",
       "      <td>12.5192</td>\n",
       "    </tr>\n",
       "    <tr>\n",
       "      <th>8</th>\n",
       "      <td>9.1276</td>\n",
       "      <td>13.3624</td>\n",
       "    </tr>\n",
       "    <tr>\n",
       "      <th>9</th>\n",
       "      <td>9.3976</td>\n",
       "      <td>14.4080</td>\n",
       "    </tr>\n",
       "    <tr>\n",
       "      <th>10</th>\n",
       "      <td>9.4554</td>\n",
       "      <td>11.9837</td>\n",
       "    </tr>\n",
       "    <tr>\n",
       "      <th>11</th>\n",
       "      <td>9.5704</td>\n",
       "      <td>12.2718</td>\n",
       "    </tr>\n",
       "    <tr>\n",
       "      <th>12</th>\n",
       "      <td>9.7728</td>\n",
       "      <td>11.5892</td>\n",
       "    </tr>\n",
       "  </tbody>\n",
       "</table>\n",
       "</div>"
      ],
      "text/plain": [
       "         Biru   Oranye\n",
       "Bulan                 \n",
       "0      8.7000  10.6600\n",
       "1      8.9055  11.0828\n",
       "2      8.7113  10.7100\n",
       "3      8.4346  11.5907\n",
       "4      8.7254  12.1070\n",
       "5      9.0551  11.7876\n",
       "6      8.9514  11.2078\n",
       "7      9.2439  12.5192\n",
       "8      9.1276  13.3624\n",
       "9      9.3976  14.4080\n",
       "10     9.4554  11.9837\n",
       "11     9.5704  12.2718\n",
       "12     9.7728  11.5892"
      ]
     },
     "execution_count": 25,
     "metadata": {},
     "output_type": "execute_result"
    }
   ],
   "source": [
    "import matplotlib.pyplot as plt\n",
    "import numpy as np\n",
    "import pandas as pd\n",
    "from IPython.display import display, Markdown, HTML\n",
    "\n",
    "%matplotlib inline\n",
    "FIGSIZE=(8,4)\n",
    "prices = pd.DataFrame(data={\n",
    "                        'Biru': [8.7   , 8.9055, 8.7113, 8.4346, \n",
    "                                 8.7254, 9.0551, 8.9514, 9.2439,\n",
    "                                 9.1276, 9.3976, 9.4554, 9.5704, \n",
    "                                 9.7728],\n",
    "                        'Oranye': [10.66  , 11.0828, 10.71  , 11.5907, \n",
    "                                   12.107 , 11.7876, 11.2078, 12.5192, \n",
    "                                   13.3624, 14.408 , 11.9837, 12.2718, 11.5892]\n",
    "                      },\n",
    "                      columns=['Biru', 'Oranye'])\n",
    "prices.index.name = 'Bulan'\n",
    "prices"
   ]
  },
  {
   "cell_type": "markdown",
   "metadata": {},
   "source": [
    "Mari kita rubah data harga di atas menjadi data keuntungan. Hal ini sangat mudah dilakukan."
   ]
  },
  {
   "cell_type": "code",
   "execution_count": 26,
   "metadata": {
    "collapsed": false
   },
   "outputs": [
    {
     "data": {
      "text/html": [
       "<div>\n",
       "<style scoped>\n",
       "    .dataframe tbody tr th:only-of-type {\n",
       "        vertical-align: middle;\n",
       "    }\n",
       "\n",
       "    .dataframe tbody tr th {\n",
       "        vertical-align: top;\n",
       "    }\n",
       "\n",
       "    .dataframe thead th {\n",
       "        text-align: right;\n",
       "    }\n",
       "</style>\n",
       "<table border=\"1\" class=\"dataframe\">\n",
       "  <thead>\n",
       "    <tr style=\"text-align: right;\">\n",
       "      <th></th>\n",
       "      <th>Biru</th>\n",
       "      <th>Oranye</th>\n",
       "    </tr>\n",
       "    <tr>\n",
       "      <th>Bulan</th>\n",
       "      <th></th>\n",
       "      <th></th>\n",
       "    </tr>\n",
       "  </thead>\n",
       "  <tbody>\n",
       "    <tr>\n",
       "      <th>0</th>\n",
       "      <td>NaN</td>\n",
       "      <td>NaN</td>\n",
       "    </tr>\n",
       "    <tr>\n",
       "      <th>1</th>\n",
       "      <td>0.023621</td>\n",
       "      <td>0.039662</td>\n",
       "    </tr>\n",
       "    <tr>\n",
       "      <th>2</th>\n",
       "      <td>-0.021807</td>\n",
       "      <td>-0.033638</td>\n",
       "    </tr>\n",
       "    <tr>\n",
       "      <th>3</th>\n",
       "      <td>-0.031763</td>\n",
       "      <td>0.082232</td>\n",
       "    </tr>\n",
       "    <tr>\n",
       "      <th>4</th>\n",
       "      <td>0.034477</td>\n",
       "      <td>0.044544</td>\n",
       "    </tr>\n",
       "    <tr>\n",
       "      <th>5</th>\n",
       "      <td>0.037786</td>\n",
       "      <td>-0.026381</td>\n",
       "    </tr>\n",
       "    <tr>\n",
       "      <th>6</th>\n",
       "      <td>-0.011452</td>\n",
       "      <td>-0.049187</td>\n",
       "    </tr>\n",
       "    <tr>\n",
       "      <th>7</th>\n",
       "      <td>0.032676</td>\n",
       "      <td>0.117008</td>\n",
       "    </tr>\n",
       "    <tr>\n",
       "      <th>8</th>\n",
       "      <td>-0.012581</td>\n",
       "      <td>0.067353</td>\n",
       "    </tr>\n",
       "    <tr>\n",
       "      <th>9</th>\n",
       "      <td>0.029581</td>\n",
       "      <td>0.078249</td>\n",
       "    </tr>\n",
       "    <tr>\n",
       "      <th>10</th>\n",
       "      <td>0.006151</td>\n",
       "      <td>-0.168261</td>\n",
       "    </tr>\n",
       "    <tr>\n",
       "      <th>11</th>\n",
       "      <td>0.012162</td>\n",
       "      <td>0.024041</td>\n",
       "    </tr>\n",
       "    <tr>\n",
       "      <th>12</th>\n",
       "      <td>0.021149</td>\n",
       "      <td>-0.055623</td>\n",
       "    </tr>\n",
       "  </tbody>\n",
       "</table>\n",
       "</div>"
      ],
      "text/plain": [
       "           Biru    Oranye\n",
       "Bulan                    \n",
       "0           NaN       NaN\n",
       "1      0.023621  0.039662\n",
       "2     -0.021807 -0.033638\n",
       "3     -0.031763  0.082232\n",
       "4      0.034477  0.044544\n",
       "5      0.037786 -0.026381\n",
       "6     -0.011452 -0.049187\n",
       "7      0.032676  0.117008\n",
       "8     -0.012581  0.067353\n",
       "9      0.029581  0.078249\n",
       "10     0.006151 -0.168261\n",
       "11     0.012162  0.024041\n",
       "12     0.021149 -0.055623"
      ]
     },
     "execution_count": 26,
     "metadata": {},
     "output_type": "execute_result"
    }
   ],
   "source": [
    "returns = prices.pct_change()\n",
    "returns"
   ]
  },
  {
   "cell_type": "markdown",
   "metadata": {},
   "source": [
    "Kita *plot* data keuntungan tersebut:"
   ]
  },
  {
   "cell_type": "code",
   "execution_count": 33,
   "metadata": {
    "collapsed": false
   },
   "outputs": [
    {
     "data": {
      "text/plain": [
       "<matplotlib.axes._subplots.AxesSubplot at 0x1e5d731beb8>"
      ]
     },
     "execution_count": 33,
     "metadata": {},
     "output_type": "execute_result"
    },
    {
     "data": {
      "image/png": "[encoded data removed]",
      "text/plain": [
       "<Figure size 576x288 with 1 Axes>"
      ]
     },
     "metadata": {},
     "output_type": "display_data"
    }
   ],
   "source": [
    "returns.plot.bar(figsize=FIGSIZE, grid=True)"
   ]
  },
  {
   "cell_type": "markdown",
   "metadata": {},
   "source": [
    "Dari grafik di atas, secara intuitif kita bisa melihat keduanya berbeda. Misalnya, aset Oranye mempunyai ***volatilitas*** yang lebih besar dari aset Biru. Mari kita lihat karakterisasi kedua aset itu secara lebih detil."
   ]
  },
  {
   "cell_type": "markdown",
   "metadata": {},
   "source": [
    "## Karakterisasi 1: Rata-Rata Keuntungan (*Average Returns*)\n",
    "\n",
    "Tahukah Anda, bahwa  kedua aset tersebut menghasilkan keuntungan rata-rata yang sama tiap bulannya?"
   ]
  },
  {
   "cell_type": "code",
   "execution_count": 29,
   "metadata": {
    "collapsed": false
   },
   "outputs": [
    {
     "data": {
      "text/plain": [
       "Biru      0.01\n",
       "Oranye    0.01\n",
       "dtype: float64"
      ]
     },
     "execution_count": 29,
     "metadata": {},
     "output_type": "execute_result"
    }
   ],
   "source": [
    "returns.mean()"
   ]
  },
  {
   "cell_type": "markdown",
   "metadata": {},
   "source": [
    "Kedua aset tersebut sama-sama memberikan rata-rata keuntungan sebesar ***1%*** tiap bulannya.\n",
    "\n",
    "Dengan demikian, kita dapat simpulkan bahwa rata-rata keuntungan (*average returns*) bukanlah cara yang baik untuk melihat karakteristik suatu aset, bahkan mungkin bisa menyesatkan.\n",
    "\n",
    "Cara lain untuk melihat perbedaan adalah dengan melihat apa yang terjadi kalau kita berinvestasi pada kedua aset di atas. Misalkan kita tanamkan uang satu juta rupiah, maka berikut adalah hasilnya setelah 12 bulan."
   ]
  },
  {
   "cell_type": "code",
   "execution_count": 32,
   "metadata": {
    "collapsed": false
   },
   "outputs": [
    {
     "data": {
      "text/plain": [
       "<matplotlib.axes._subplots.AxesSubplot at 0x1e5d72bd5c0>"
      ]
     },
     "execution_count": 32,
     "metadata": {},
     "output_type": "execute_result"
    },
    {
     "data": {
      "image/png": "[encoded data removed]",
      "text/plain": [
       "<Figure size 576x288 with 1 Axes>"
      ]
     },
     "metadata": {},
     "output_type": "display_data"
    }
   ],
   "source": [
    "(returns + 1).cumprod().plot(figsize=FIGSIZE, grid=True)"
   ]
  },
  {
   "cell_type": "markdown",
   "metadata": {},
   "source": [
    "Dari grafik di atas terlihat jelas bahwa karakter pergerakan nilai portfolio kedua aset sangat berbeda, dan hasil akhirnya (setelah 12 bulan) juga sedikit berbeda (aset biru sedikit mengungguli aset oranye). Kedua hal ini tidak tertangkap dengan hanya memakai nilai rata-rata keuntungan (ingat, rata-rata keuntungan keduanya sama)."
   ]
  },
  {
   "cell_type": "markdown",
   "metadata": {},
   "source": [
    "### Keuntungan Majemuk (*Compound Return*)\n",
    "\n",
    "Misalkan $R_{t0,t1}$ adalah keuntungan yang diperoleh di perioda *t0* ke *t1*, dan $R_{t1,t2}$ adalah keuntungan yang diperoleh di perioda *t1* ke *t2*, maka $R_{t0,t2}$ yaitu keuntungan yang diperoleh di total perioda dari *t0* ke *t2* adalah:\n",
    "\n",
    "$$ R_{t0,t2} = (1 + R_{t0,t1}) * (1 + R_{t1,t2}) - 1 $$\n"
   ]
  },
  {
   "cell_type": "markdown",
   "metadata": {},
   "source": [
    "### Menyetahunkan Keuntungan (*Annualizing Return*)\n",
    "\n",
    "Seringkali kita ingin membandingkan keuntungan yang didapat dari perioda yang berbeda. Misalnya antara keuntungan bulanan dengan keuntungan per kuartal. Agar bisa dibandingkan, biasanya kedua keuntungan tersebut kita setahunkan (*annualize*) dahulu.\n",
    "\n",
    "Formulanya adalah sebagai berikut. \n",
    "\n",
    "$$R_{tahunan} = (1 + R_{perioda}) ^{N_p} - 1$$\n",
    "\n",
    "di mana $N_p$ adalah jumlah perioda dalam setahun.\n",
    "\n",
    "Misalnya, untuk menyetahunkan keuntungan bulanan:\n",
    "\n",
    "$$R_{tahunan} = (1 + R_{bulanan}) ^{12} - 1$$\n",
    "\n",
    "Untuk menyetahunkan keuntungan kuartalan:\n",
    "\n",
    "$$R_{tahunan} = (1 + R_{kuartalan}) ^{4} - 1$$\n",
    "\n"
   ]
  },
  {
   "cell_type": "markdown",
   "metadata": {},
   "source": [
    "## Karakterisasi 2: Volatilitas\n",
    "\n",
    "Kita sudah sedikit menyinggung tentang *volatilitas* di atas. Di bagian ini kita akan membahasnya dengan lebih detil.\n",
    "\n",
    "Ukuran pertama untuk menggambarkan volatilitas adalah ***variance***. *Variance*, dilambangkan  ***σ<sup>2</sup>*** (sigma kuadrat), dihitung dengan formula berikut:\n",
    "\n",
    "$$ \\sigma^2 = \\frac{1}{N} \\sum_{i=1}^ {N} (R_i - \\overline{R} )^2 $$\n",
    "\n",
    "dimana:\n",
    "\n",
    "- $\\sigma^2$ : variance\n",
    "- $N$ : jumlah periode (misalnya 12 untuk contoh kita di atas)\n",
    "- $\\overline{R}$ : keuntungan rata-rata\n",
    "\n",
    "Disamping *variance*, ukuran yang lebih sering digunakan adalah ***standard deviasi***, yang dilambangkan dengan ***σ*** (sigma), notabene adalah akar dari *variance*:\n",
    "\n",
    "$$ \\sigma = \\sqrt{ \\frac{1}{N} \\sum_{i=1}^ {N} (R_i - \\overline{R} )^2 } $$\n",
    "\n",
    "Standard deviasi lebih sering dipergunakan dari pada *variance* karena nilainya bisa dibandingkan dengan nilai *return*.\n",
    "\n",
    "Mari kita menghitung *variance* dan standard deviasi dari kedua contoh aset di atas.\n",
    "\n",
    "Untuk menghitung *variance*, cukup memanggil `var()` yang merupakan *method* dari dataframe:"
   ]
  },
  {
   "cell_type": "code",
   "execution_count": 34,
   "metadata": {
    "collapsed": false
   },
   "outputs": [
    {
     "data": {
      "text/plain": [
       "Biru      0.000575\n",
       "Oranye    0.006336\n",
       "dtype: float64"
      ]
     },
     "execution_count": 34,
     "metadata": {},
     "output_type": "execute_result"
    }
   ],
   "source": [
    "returns.var()"
   ]
  },
  {
   "cell_type": "markdown",
   "metadata": {},
   "source": [
    "Demikian pula untuk menghitung standard deviasi, cukup memanggil *method* `std()` dari dataframe:"
   ]
  },
  {
   "cell_type": "code",
   "execution_count": 35,
   "metadata": {
    "collapsed": false
   },
   "outputs": [
    {
     "data": {
      "text/plain": [
       "Biru      0.023977\n",
       "Oranye    0.079601\n",
       "dtype: float64"
      ]
     },
     "execution_count": 35,
     "metadata": {},
     "output_type": "execute_result"
    }
   ],
   "source": [
    "returns.std()"
   ]
  },
  {
   "cell_type": "markdown",
   "metadata": {},
   "source": [
    "Dari kedua nilai baik *variance* maupun standard deviasi di atas kita bisa lihat bahwa volatilitas dari aset Oranye lebih besar dari aset Biru. Artinya keuntungan dari aset Oranye lebih sering menyimpang jauh dari nilai rata-ratanya."
   ]
  },
  {
   "cell_type": "markdown",
   "metadata": {},
   "source": [
    "### Menyetahunkan Volatilitas\n",
    "\n",
    "Sama seperti keuntungan, kadang kita ingin membandingkan volatilitas dari dua periode yang berbeda. Agar keduanya dapat dibandingkan, maka kita bisa menyetahunkan kedua volatilitas tersebut terlebih dahulu. Formulanya adalah sebagai berikut:\n",
    "\n",
    "$$ \\sigma_{ann} = \\sigma_p \\sqrt{N_p} $$\n",
    "\n",
    "dimana:\n",
    "\n",
    "- $\\sigma_{ann}$: volatilitas yang disetahunkan (*annualized volatility*)\n",
    "- $\\sigma_p$: volatilitas dari suatu periode *p*\n",
    "- $N_p$: jumlah periode dalam setahun. Misalkan *p* adalah bulanan, maka $N_p$ adalah 12 (ada 12 bulan dalam 1 tahun), dan misalnya *p* adalah harian, maka $N_p$ adalah 243 (rata-rata ada 243 hari kerja bursa IDX dalam setahun, dalam 10 tahun terakhir).\n",
    "\n",
    "Sebagai contoh, mari kita setahunkan volatilitas bulanan dari contoh kita di atas."
   ]
  },
  {
   "cell_type": "code",
   "execution_count": 36,
   "metadata": {
    "collapsed": false
   },
   "outputs": [
    {
     "data": {
      "text/plain": [
       "Biru      0.083060\n",
       "Oranye    0.275747\n",
       "dtype: float64"
      ]
     },
     "execution_count": 36,
     "metadata": {},
     "output_type": "execute_result"
    }
   ],
   "source": [
    "annualized_vol = returns.std() * (12**0.5)\n",
    "annualized_vol"
   ]
  },
  {
   "cell_type": "markdown",
   "metadata": {},
   "source": [
    "## Karakterisasi 3: *Risk Adjusted Returns*\n",
    "\n",
    "*Risk adjusted return* adalah salah satu cara untuk membandingkan dua aset yang mempunyai keuntungan **dan** volatilitas yang berbeda. Sebagai demonstrasi, \n",
    "\n",
    "Untuk mendemonstrasikan bagian ini, kita akan memuat sebuah dataset baru yang berisi keuntungan bulanan dari dua jenis aset di Dow Jones, yaitu ***SmallCap*** dan ***BigCap*** mulai dari tahun 1926 sampai 2018."
   ]
  },
  {
   "cell_type": "code",
   "execution_count": 52,
   "metadata": {
    "collapsed": false
   },
   "outputs": [
    {
     "data": {
      "text/html": [
       "<div>\n",
       "<style scoped>\n",
       "    .dataframe tbody tr th:only-of-type {\n",
       "        vertical-align: middle;\n",
       "    }\n",
       "\n",
       "    .dataframe tbody tr th {\n",
       "        vertical-align: top;\n",
       "    }\n",
       "\n",
       "    .dataframe thead th {\n",
       "        text-align: right;\n",
       "    }\n",
       "</style>\n",
       "<table border=\"1\" class=\"dataframe\">\n",
       "  <thead>\n",
       "    <tr style=\"text-align: right;\">\n",
       "      <th></th>\n",
       "      <th>SmallCap</th>\n",
       "      <th>LargeCap</th>\n",
       "    </tr>\n",
       "    <tr>\n",
       "      <th>date</th>\n",
       "      <th></th>\n",
       "      <th></th>\n",
       "    </tr>\n",
       "  </thead>\n",
       "  <tbody>\n",
       "    <tr>\n",
       "      <th>1926-07</th>\n",
       "      <td>-0.0145</td>\n",
       "      <td>0.0329</td>\n",
       "    </tr>\n",
       "    <tr>\n",
       "      <th>1926-08</th>\n",
       "      <td>0.0512</td>\n",
       "      <td>0.0370</td>\n",
       "    </tr>\n",
       "    <tr>\n",
       "      <th>1926-09</th>\n",
       "      <td>0.0093</td>\n",
       "      <td>0.0067</td>\n",
       "    </tr>\n",
       "    <tr>\n",
       "      <th>1926-10</th>\n",
       "      <td>-0.0484</td>\n",
       "      <td>-0.0243</td>\n",
       "    </tr>\n",
       "    <tr>\n",
       "      <th>1926-11</th>\n",
       "      <td>-0.0078</td>\n",
       "      <td>0.0270</td>\n",
       "    </tr>\n",
       "  </tbody>\n",
       "</table>\n",
       "</div>"
      ],
      "text/plain": [
       "         SmallCap  LargeCap\n",
       "date                       \n",
       "1926-07   -0.0145    0.0329\n",
       "1926-08    0.0512    0.0370\n",
       "1926-09    0.0093    0.0067\n",
       "1926-10   -0.0484   -0.0243\n",
       "1926-11   -0.0078    0.0270"
      ]
     },
     "execution_count": 52,
     "metadata": {},
     "output_type": "execute_result"
    }
   ],
   "source": [
    "returns = pd.read_csv('SmallLargeCapReturns.csv', index_col='date', parse_dates=True)\n",
    "returns.index = returns.index.to_period('M')\n",
    "returns.head()"
   ]
  },
  {
   "cell_type": "markdown",
   "metadata": {},
   "source": [
    "Kedua jenis aset mempunyai rata-rata dan standard deviasi keuntungan yang berbeda. \n",
    "\n",
    "Untuk menghitung standard deviasi, pertama kita hitung standard deviasi dari keuntungan **bulanan**, yaitu:"
   ]
  },
  {
   "cell_type": "code",
   "execution_count": 53,
   "metadata": {
    "collapsed": false
   },
   "outputs": [
    {
     "data": {
      "text/plain": [
       "SmallCap    0.106288\n",
       "LargeCap    0.053900\n",
       "dtype: float64"
      ]
     },
     "execution_count": 53,
     "metadata": {},
     "output_type": "execute_result"
    }
   ],
   "source": [
    "returns.std()"
   ]
  },
  {
   "cell_type": "markdown",
   "metadata": {},
   "source": [
    "Kemudian kita setahunkan standard deviasi tersebut dengan formula yang sudah dijelaskan di atas:"
   ]
  },
  {
   "cell_type": "code",
   "execution_count": 48,
   "metadata": {
    "collapsed": false
   },
   "outputs": [
    {
     "data": {
      "text/plain": [
       "SmallCap    0.368193\n",
       "LargeCap    0.186716\n",
       "dtype: float64"
      ]
     },
     "execution_count": 48,
     "metadata": {},
     "output_type": "execute_result"
    }
   ],
   "source": [
    "annualized_vol = returns.std() * (12**0.5)\n",
    "annualized_vol"
   ]
  },
  {
   "cell_type": "markdown",
   "metadata": {},
   "source": [
    "Sedangkan untuk menghitung *annualized return*, maka langkah-langkahnya adalah sebagai berikut.\n",
    "\n",
    "Pertama kita hitung *total return* dari kedua aset, yaitu *return* seandainya kita inves mulai dari awal perioda (Juli 1926) sampai akhir perioda (Desember 2018 di data ini).\n",
    "\n",
    "*Total return* dapat dihitung dengan cara mengalikan semua *return* bulanan setelah ditambah 1:"
   ]
  },
  {
   "cell_type": "code",
   "execution_count": 55,
   "metadata": {
    "collapsed": false
   },
   "outputs": [
    {
     "data": {
      "text/plain": [
       "SmallCap    1659581.9\n",
       "LargeCap       3674.9\n",
       "dtype: float64"
      ]
     },
     "execution_count": 55,
     "metadata": {},
     "output_type": "execute_result"
    }
   ],
   "source": [
    "total_returns = (returns + 1).prod() - 1\n",
    "total_returns.round(1)"
   ]
  },
  {
   "cell_type": "markdown",
   "metadata": {},
   "source": [
    "Setelah kita dapatkan *total return*, maka kita hitung *return* bulanannya:"
   ]
  },
  {
   "cell_type": "code",
   "execution_count": 60,
   "metadata": {
    "collapsed": false
   },
   "outputs": [
    {
     "data": {
      "text/plain": [
       "SmallCap    0.012986\n",
       "LargeCap    0.007423\n",
       "dtype: float64"
      ]
     },
     "execution_count": 60,
     "metadata": {},
     "output_type": "execute_result"
    }
   ],
   "source": [
    "N_MONTHS = len(returns)\n",
    "return_per_month = ((1 + total_returns) ** (1 / N_MONTHS)) - 1\n",
    "return_per_month"
   ]
  },
  {
   "cell_type": "markdown",
   "metadata": {},
   "source": [
    "Kemudian kita setahunkan nilai *return* bulanan di atas:"
   ]
  },
  {
   "cell_type": "code",
   "execution_count": 61,
   "metadata": {
    "collapsed": false
   },
   "outputs": [
    {
     "data": {
      "text/plain": [
       "SmallCap    0.167463\n",
       "LargeCap    0.092810\n",
       "dtype: float64"
      ]
     },
     "execution_count": 61,
     "metadata": {},
     "output_type": "execute_result"
    }
   ],
   "source": [
    "ann_returns = ((1 + return_per_month) ** 12) - 1\n",
    "ann_returns"
   ]
  },
  {
   "cell_type": "markdown",
   "metadata": {},
   "source": [
    "Sampai di sini, kita sudah mendapat data-data keuntungan dan standard deviasi setahun dari kedua aset:\n",
    "- aset ***SmallCap*** mempunyai rata-rata keuntungan disetahunkan 16.75% dengan standard deviasi 10.63%\n",
    "- aset ***LargeCap*** mempunyai rata-rata keuntungan disetahunkan 9.28% dengan standard deviasi 5.39%\n",
    "\n",
    "Untuk menilai keuntungan aset mana yang lebih baik, salah satu cara sederhana adalah dengan membagi *return* dengan *risk*, sbb:\n",
    "\n",
    "$$ risk\\ adjusted\\ return = \\frac{return}{risk}$$\n",
    "\n",
    "Rasio di atas juga disebut ***return to risk ratio***.\n",
    "\n",
    "**Definisi dari *risk adjusted return* adalah berapa besar *return* yang dihasilkan untuk setiap unit *risk*.**\n",
    "\n",
    "Dalam hal ini, kita menggunakan standard deviasi sebagai ukuran risk. Dengan demikian, maka untuk menghitung *risk adjusted return*, kita membagi *return* dengan standard deviasi, sbb:"
   ]
  },
  {
   "cell_type": "code",
   "execution_count": 65,
   "metadata": {
    "collapsed": false
   },
   "outputs": [
    {
     "data": {
      "text/plain": [
       "SmallCap    0.454825\n",
       "LargeCap    0.497063\n",
       "dtype: float64"
      ]
     },
     "execution_count": 65,
     "metadata": {},
     "output_type": "execute_result"
    }
   ],
   "source": [
    "risk_adjusted_returns = ann_returns / annualized_vol\n",
    "risk_adjusted_returns"
   ]
  },
  {
   "cell_type": "markdown",
   "metadata": {},
   "source": [
    "Dari kalkulasi di atas, aset *LargeCap* memberikan *risk adjusted return* yang sedikit lebih baik dari pada *SmallCap* (49.7% vs 45.5%)."
   ]
  },
  {
   "cell_type": "markdown",
   "metadata": {},
   "source": [
    "## Karakterisasi 4: Sharpe Ratio\n",
    "\n",
    "Cara yang lebih umum dan intuitif untuk menghitung *risk adjusted return* adalah dengan membagi ***excess return*** dengan *risk*. ***Excess return*** adalah *return* dikurangi dengan ***risk free rate***, yaitu *return* yang kita dapat dengan tanpa resiko sama sekali, misalnya *return* dari surat utang pemerintah.\n",
    "\n",
    "$$ excess\\ return = return - risk\\ free\\ rate $$\n",
    "\n",
    "Rasio dari *excess return* terhadap *risk* disebut ***Sharpe ratio***:\n",
    "\n",
    "$$ \\begin{align*} Sharpe\\ Ratio &= \\frac{excess\\ return}{risk} \\\\  &= \\frac{R_p - R_f}{\\sigma_p} \\end{align*} $$\n",
    "\n",
    "Sebagai contoh, mari kita hitung *Sharpe ratio* dari keuntungan aset *SmallCap* dan *LargeCap* di atas, misalkan *risk free rate*-nya adalah flat 3% sepanjang masa (riilnya, kita menyimpan *risk free rate* dalam *series* karena nilainya berubah-ubah)."
   ]
  },
  {
   "cell_type": "code",
   "execution_count": 66,
   "metadata": {
    "collapsed": false
   },
   "outputs": [
    {
     "data": {
      "text/plain": [
       "SmallCap    0.373346\n",
       "LargeCap    0.336392\n",
       "dtype: float64"
      ]
     },
     "execution_count": 66,
     "metadata": {},
     "output_type": "execute_result"
    }
   ],
   "source": [
    "risk_free_rate = 0.03\n",
    "excess_returns = ann_returns - risk_free_rate\n",
    "sharpe_ratio = excess_returns/ annualized_vol\n",
    "sharpe_ratio"
   ]
  },
  {
   "cell_type": "markdown",
   "metadata": {},
   "source": [
    "Dengan perhitungan di atas, terlihat bahwa *SmallCap* memberikan *risk adjusted return* yang sedikit lebih baik dari pada *LargeCap* (37.3% vs 33.6%)."
   ]
  },
  {
   "cell_type": "markdown",
   "metadata": {},
   "source": [
    "## Karakterisasi 5: Maximum Drawdown\n",
    "\n",
    "Selain volatilitas, ukuran lain yang populer digunakan untuk mengukur resiko adalah *maximum drawdown*. ***Maximum drawdown*** adalah kerugian maksimum jika membeli suatu aset di nilai tertingginya lalu menjualnya di nilai terendahnya setelah itu. Atau dengan kata lain, membeli ketika harga di puncak, dan menjual ketika harga di dasar.\n",
    "\n",
    "Mari kita menghitung *drawdawn* untuk aset *LargeCap*. Pertama kita hitung *wealth_index*, yaitu pergerakan nilai investasi kita seandainya kita menginvestasikan misalnya $1000 di aset itu."
   ]
  },
  {
   "cell_type": "code",
   "execution_count": 69,
   "metadata": {
    "collapsed": false
   },
   "outputs": [
    {
     "data": {
      "text/plain": [
       "<matplotlib.axes._subplots.AxesSubplot at 0x1e5d846c160>"
      ]
     },
     "execution_count": 69,
     "metadata": {},
     "output_type": "execute_result"
    },
    {
     "data": {
      "image/png": "[encoded data removed]",
      "text/plain": [
       "<Figure size 432x288 with 1 Axes>"
      ]
     },
     "metadata": {},
     "output_type": "display_data"
    }
   ],
   "source": [
    "monthly_returns = returns['LargeCap']\n",
    "wealth_index = 1000 * (1+monthly_returns).cumprod()\n",
    "wealth_index.plot()"
   ]
  },
  {
   "cell_type": "markdown",
   "metadata": {},
   "source": [
    "Lalu kita kalkulasi nilai puncak yg tercapai sebelumnya."
   ]
  },
  {
   "cell_type": "code",
   "execution_count": 70,
   "metadata": {
    "collapsed": false
   },
   "outputs": [
    {
     "data": {
      "text/plain": [
       "<matplotlib.axes._subplots.AxesSubplot at 0x1e5d70bc390>"
      ]
     },
     "execution_count": 70,
     "metadata": {},
     "output_type": "execute_result"
    },
    {
     "data": {
      "image/png": "[encoded data removed]",
      "text/plain": [
       "<Figure size 432x288 with 1 Axes>"
      ]
     },
     "metadata": {},
     "output_type": "display_data"
    }
   ],
   "source": [
    "previous_peaks = wealth_index.cummax()\n",
    "previous_peaks.plot()"
   ]
  },
  {
   "cell_type": "markdown",
   "metadata": {},
   "source": [
    "Drawdown dihitung dengan menghitung keuntungan investasi pada suatu saat dibanding dengan puncak sebelumnya:"
   ]
  },
  {
   "cell_type": "code",
   "execution_count": 71,
   "metadata": {
    "collapsed": false
   },
   "outputs": [
    {
     "data": {
      "text/plain": [
       "<matplotlib.axes._subplots.AxesSubplot at 0x1e5d70bc0f0>"
      ]
     },
     "execution_count": 71,
     "metadata": {},
     "output_type": "execute_result"
    },
    {
     "data": {
      "image/png": "[encoded data removed]",
      "text/plain": [
       "<Figure size 432x288 with 1 Axes>"
      ]
     },
     "metadata": {},
     "output_type": "display_data"
    }
   ],
   "source": [
    "drawdown = (wealth_index - previous_peaks) / previous_peaks\n",
    "drawdown.plot()"
   ]
  },
  {
   "cell_type": "markdown",
   "metadata": {},
   "source": [
    "Dari grafik di atas kita bisa melihat *maximum drawdawn* terjadi sekitar tahun 1929, atau di saat *the great recession*. Kita bisa melihat waktu tepatnya kapan sebagai berikut:"
   ]
  },
  {
   "cell_type": "code",
   "execution_count": 73,
   "metadata": {
    "collapsed": false
   },
   "outputs": [
    {
     "data": {
      "text/plain": [
       "Period('1932-05', 'M')"
      ]
     },
     "execution_count": 73,
     "metadata": {},
     "output_type": "execute_result"
    }
   ],
   "source": [
    "drawdown.idxmin()"
   ]
  },
  {
   "cell_type": "markdown",
   "metadata": {},
   "source": [
    "Dan nilai drawdawn terbesar dapat kita lihat sebagai berikut:"
   ]
  },
  {
   "cell_type": "code",
   "execution_count": 74,
   "metadata": {
    "collapsed": false
   },
   "outputs": [
    {
     "data": {
      "text/plain": [
       "-0.8400375277943124"
      ]
     },
     "execution_count": 74,
     "metadata": {},
     "output_type": "execute_result"
    }
   ],
   "source": [
    "drawdown.min()"
   ]
  },
  {
   "cell_type": "markdown",
   "metadata": {},
   "source": [
    "Kita bisa *zoom* pergerakan nilai investasi di sekitar perioda *the great recession* dengan cara berikut:"
   ]
  },
  {
   "cell_type": "code",
   "execution_count": 77,
   "metadata": {
    "collapsed": false
   },
   "outputs": [
    {
     "data": {
      "text/plain": [
       "<matplotlib.axes._subplots.AxesSubplot at 0x1e5d7040710>"
      ]
     },
     "execution_count": 77,
     "metadata": {},
     "output_type": "execute_result"
    },
    {
     "data": {
      "image/png": "[encoded data removed]",
      "text/plain": [
       "<Figure size 432x288 with 1 Axes>"
      ]
     },
     "metadata": {},
     "output_type": "display_data"
    }
   ],
   "source": [
    "wealth_index[:\"1940\"].plot(grid=True)"
   ]
  },
  {
   "cell_type": "markdown",
   "metadata": {},
   "source": [
    "Terlihat bahwa *maximum drawdown* sebesar 84% (seperti kita hitung di atas) terjadi kita kita membeli aset di puncak yaitu di kira-kira tahun 1929 lalu menjualnya di dasar yaitu di kira-kira tahun 1932."
   ]
  },
  {
   "cell_type": "markdown",
   "metadata": {},
   "source": [
    "#### Catatan tentang *Drawdown*\n",
    "\n",
    "Ada beberapa catatan peringatan tentang *drawdown*. Pertama, *drawdown* dihitung dari dua titik data, sehingga rentan terhadap *outliar*. Kedua, *drawdown* tergantung dari frekuensi pengamatan data. Frekuensi pengamatan yang panjang (misalnya mingguan, bulanan) akan menyembunyikan *drawdown* yang ada pada data harian.\n"
   ]
  },
  {
   "cell_type": "markdown",
   "metadata": {
    "collapsed": true
   },
   "source": [
    "## Referensi dan Atribusi\n",
    "\n",
    "Sebagian besar materi di sini diambil dari materi minggu 1 dari MOOC [Introduction to Portfolio Construction and Analysis with Python](https://www.coursera.org/learn/introduction-portfolio-construction-python)."
   ]
  },
  {
   "cell_type": "code",
   "execution_count": null,
   "metadata": {
    "collapsed": true
   },
   "outputs": [],
   "source": []
  }
 ],
 "metadata": {
  "anaconda-cloud": {},
  "kernelspec": {
   "display_name": "Python 3",
   "language": "python",
   "name": "python [root]"
  },
  "language_info": {
   "codemirror_mode": {
    "name": "ipython",
    "version": 3
   },
   "file_extension": ".py",
   "mimetype": "text/x-python",
   "name": "python",
   "nbconvert_exporter": "python",
   "pygments_lexer": "ipython3",
   "version": "3.5.3"
  }
 },
 "nbformat": 4,
 "nbformat_minor": 0
}
