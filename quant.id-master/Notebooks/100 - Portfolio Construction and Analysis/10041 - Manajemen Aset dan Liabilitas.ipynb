{
 "cells": [
  {
   "cell_type": "markdown",
   "metadata": {},
   "source": [
    "Tulisan ini akan membahas pengelolaan portfolio dalam konteks yang lebih besar. Biasanya kita melihat pengelolaan portfolio sebagai manajemen aset (*asset management*), yaitu hanya dalam konteks agar memberikan imbal hasil yang sebesar-besarnya. Dalam konteks yang lebih besar, kita melihat pengelolaan portfolio dalam konteks untuk memenuhi suatu tujuan pengeluaran tertentu. Jadi dalam portfolio kita tidak hanya terdapat aset, tapi juga kewajiban, atau liabilitas. Pengelolaannya disebut manajemen aset dan liabilitas (*asset-liability management*).\n",
    "\n",
    "Misalnya dalam pengelolaan portfolio pribadi kita. Apa sih tujuan kita mengelola portfolio? Tujuannya tentu bermacam-macam. Mungkin ada yang agar nanti ketika pensiun, aset kita bisa membiayai pengeluaran kita sebesar sekian juta per bulan. Mungkin agar beberapa tahun lagi kita bisa menyekolahkan anak kita dengan biaya sekian sekian. Dan sebagainya. Nah, kalau kita mempunyai tujuan tertentu, maka kita bisa mengukur dan mengelola aset kita agar memenuhi tujuan tersebut.\n",
    "\n",
    "Dalam industri keuangan, salah satu sektor yang memiliki permasalahan pengelolaan seperti ini adalah industri dana pensiun. Dana pensiun tidak hanya memperhatikan bagaimana mendapatkan untung yang sebesar-besarnya saja dari aset yang dikelolanya, tapi juga mempunyai persoalan spesifik, yaitu dia mempunyai kewajiban untuk membayar uang pensiun kepada kliennya ketika mereka memasuki masa pensiun. Kewajiban yang harus dikeluarkan ini disebut liabilitas.\n",
    "\n",
    "Sama seperti aset yang nilainya bisa naik turun tergantung dari kondisi pasar, liabilitas juga begitu, nilainya bisa naik turun tergantung dari kondisi pasar (terutama tingkat suku bunga). Selama nilai aset lebih besar dari pada nilai liabilitas, maka boleh dibilang kita aman. Tapi ketika nilai liabilitas lebih besar, maka kita dalam masalah. Dalam hal ini, maka biasanya terpaksa kita meminta suntikan modal baru dari klien kita."
   ]
  },
  {
   "cell_type": "markdown",
   "metadata": {},
   "source": [
    "## Nilai Saat Ini dari Liabilitas\n",
    "\n",
    "Mari kita bahas sesuatu yang cukup menarik, yang awalnya mungkin sedikit tidak intuitif. Saya mulai dengan suatu contoh.\n",
    "\n",
    "Misalnya anda mempunyai kewajiban membayar Rp 100 juta setahun dari sekarang. Suku bunga pada awalnya 7% per tahun. Kalau suku bunga turun menjadi 5% per tahun, Anda untung atau rugi?\n",
    "\n",
    "Intuisinya, kalau kita punya kredit, lalu suku bunga turun, maka kita untung dong. Apakah begitu, mari kita lihat. Formulanya seperti ini.\n",
    "\n",
    "Kalau kita punya liabilitas ***L*** yang harus dibayar dalam waktu ***t*** tahun ke depan dan suku bunganya adalah ***r***, maka nilai saat ini (*present value, PV*) dari liabilitas itu adalah:\n",
    "\n",
    "$$ PV(L) = \\frac{1}{(1+r)^t}\\ L$$\n",
    "\n",
    "Dengan contoh di atas, kewajiban (L) Rp 100 juta, dengan t=1, suku bunga 0.07, maka nilai saat ini (*present value*) dari kewajiban itu adalah:"
   ]
  },
  {
   "cell_type": "code",
   "execution_count": 1,
   "metadata": {},
   "outputs": [
    {
     "data": {
      "text/plain": [
       "93.45794392523365"
      ]
     },
     "execution_count": 1,
     "metadata": {},
     "output_type": "execute_result"
    }
   ],
   "source": [
    "1 / ((1+0.07)**1) * 100"
   ]
  },
  {
   "cell_type": "markdown",
   "metadata": {},
   "source": [
    "Misalkan suku bunga turun menjadi 5% per tahun, maka nilai saat ini (*present value*) dari kewajiban kita adalah:"
   ]
  },
  {
   "cell_type": "code",
   "execution_count": 2,
   "metadata": {},
   "outputs": [
    {
     "data": {
      "text/plain": [
       "95.23809523809523"
      ]
     },
     "execution_count": 2,
     "metadata": {},
     "output_type": "execute_result"
    }
   ],
   "source": [
    "1 / ((1+0.05)**1) * 100"
   ]
  },
  {
   "cell_type": "markdown",
   "metadata": {},
   "source": [
    "Ternyata kalau suku bunga turun, nilai liabilitas kita justru naik!"
   ]
  },
  {
   "cell_type": "markdown",
   "metadata": {},
   "source": [
    "## Funding Ratio: Rasio Aset terhadap Liabilitas\n",
    "\n",
    "Seperti kita ketahui, nilai aset bisa naik atau turun. Dan seperti kita diskusikan di atas, nilai liabilitas juga bisa naik atau turun, tergantung dari suku bunga. Oleh karena itu, dalam pengelolaan portfolio, kita tidak boleh hanya melihat naik turunnya aset saja, tapi harus keduanya.\n",
    "\n",
    "Salah satu ukuran kesehatan portfolio kita adalah rasio pendanaan (*funding ratio*), yang formulanya simpel saja:\n",
    "\n",
    "$$ Funding\\ Ratio = \\frac{Asset}{Liabilities} $$\n",
    "\n",
    "Dalam portfolio yang sehat, *funding ratio* harus satu atau lebih, atau dengan kata lain, aset harus sama atau lebih besar dari pada liabilitas.\n",
    "\n",
    "Nah dalam konteks ini, maka naik turunnya nilai aset tidak bisa langsung diasosiasikan dengan akibat baik atau buruk, karena kita harus melihat naik turunnya nilai liabilitas juga. Misalnya, naiknya nilai aset bukanlah kabar baik, kalau pada saat yang sama nilai liabilitas naik lebih besar lagi. Dan sebaliknya, turunnya nilai aset bukanlah kabar buruk, kalau pada saat yang sama nilai liabilitas juga turun lebih besar lagi. Jadi kita harus selalu melihat pada *funding ratio* ini.\n"
   ]
  },
  {
   "cell_type": "markdown",
   "metadata": {},
   "source": [
    "## Liability Hedging Portfolio\n",
    "\n",
    "Portfolio yang menyeimbangkan aset dengan arus kas dari liabilitas disebut ***liability hedging portoflio (LHP)***. Dalam konteks personal, disebut juga ***goal-hedging portfolio (GHP)***. Portfolio ini biasanya mempunyai aset dalam bentuk surat utang dengan suku bunga dan jatuh tempo yang cocok dengan liabilitas, misalnya obligasi tanpa kupon (*zero coupon bond*). Obligasi tanpa kupon menjanjikan nilai yang eksak pada saat jatuh tempo, sehingga apapun yang terjadi pada pasar, nilai itu pasti akan dibayarkan. Dengan demikian maka portfolio aman dari kondisi apapun.\n",
    "\n",
    "Dalam konteks ini, uang tunai atau setara tunai tidak bisa dibilang sebagai *safe haven*, karena dengan tingkat suku bunga yang naik turun, menyebabkan nilai investasi tidak menentu di masa mendatang."
   ]
  },
  {
   "cell_type": "markdown",
   "metadata": {},
   "source": [
    "## Liability Driven Investing (LDI)\n",
    "\n",
    "*Liability-driven investing* adalah paradigma investing moderen yang saat ini dominan dipakai di pengelolaan investasi profesional untuk institusi besar. Ide dari paradigma ini adalah, karena sangat sulit untuk meracik suatu portfolio yang optimal antara menghasilkan *return* yang besar dan memberikan proteksi terhadap resiko penurunan, maka lebih bagus kalau dibuat dua portfolio yang terpisah saja. Portfolio yang pertama adalah untuk mengejar *return* yang besar, disebut ***Performance-Seeking Portfolio (PSP)***, dan yang kedua adalah ***Liability-Hedging Portfolio (LHP)*** untuk melindungi keseluruhan portfolio dari resiko penurunan. Setelah kita alokasikan porsi yang tepat untuk LHP sesuai dengan profil resiko yang bisa diterima, sisa dana akan dialokasikan untuk PSP yang murni untuk mengejar performansi.\n"
   ]
  },
  {
   "cell_type": "code",
   "execution_count": null,
   "metadata": {},
   "outputs": [],
   "source": []
  }
 ],
 "metadata": {
  "kernelspec": {
   "display_name": "Python 3",
   "language": "python",
   "name": "python3"
  },
  "language_info": {
   "codemirror_mode": {
    "name": "ipython",
    "version": 3
   },
   "file_extension": ".py",
   "mimetype": "text/x-python",
   "name": "python",
   "nbconvert_exporter": "python",
   "pygments_lexer": "ipython3",
   "version": "3.5.3"
  }
 },
 "nbformat": 4,
 "nbformat_minor": 2
}
