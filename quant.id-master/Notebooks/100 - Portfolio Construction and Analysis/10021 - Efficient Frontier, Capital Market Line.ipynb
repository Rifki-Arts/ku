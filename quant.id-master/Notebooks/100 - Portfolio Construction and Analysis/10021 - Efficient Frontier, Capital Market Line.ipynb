{
 "cells": [
  {
   "cell_type": "markdown",
   "metadata": {},
   "source": [
    "# Teori dan Praktek Alokasi Aset Portfolio yang Optimal"
   ]
  },
  {
   "cell_type": "markdown",
   "metadata": {},
   "source": [
    "## Referensi dan Atribusi\n",
    "\n",
    "Materi dari studi ini diambil dari minggu kedua kursus [Introduction to Portfolio Construction and Analysis with Python](https://www.coursera.org/learn/introduction-portfolio-construction-python).\n",
    "\n",
    "Sumber-sumber lain:\n",
    "\n",
    "- [Efficient frontier](https://www.investopedia.com/terms/e/efficientfrontier.asp) - Investopedia"
   ]
  },
  {
   "cell_type": "markdown",
   "metadata": {},
   "source": [
    "## *Return* dan Volatilitas dari Portfolio\n",
    "\n",
    "### Portfolio dengan Dua Aset\n",
    "\n",
    "Misalkan kita membangun portfolio yang berisi dua aset, yaitu aset A dan aset B. *Return*, volatilitas (dalam hal ini standard deviasi), dan alokasi (*weight*) masing-masing aset direpresentasikan dengan ***R***, ***σ***, dan ***w***.\n",
    "\n",
    "Maka *return* portfolio adalah *weighted average* dari masing-masing *return*:\n",
    "\n",
    "$$ R(w_A, w_B) = w_A \\times R_A + w_B \\times R_B $$\n",
    "\n",
    "Sedangkan untuk volatilitas, nilainya tergantung dari korelasi antar aset. Kalau aset-asetnya berkorelasi sempurna, maka pada dasarnya aset-aset tersebut akan bergerak secara seragam, sehingga volatilitasnya adalah semacam rata-rata dari volatilitas aset-aset tersebut. Semakin rendah korelasinya, maka volatilitas dari portfolio akan semakin rendah juga, sampai pada suatu titik ketika korelasi antara A dan B cukup rendah sehingga bahkan volatilitas dari portfolio lebih rendah dari volatilitas baik A atau B!\n",
    "\n",
    "Perhitungan untuk volatility adalah sbb:\n",
    "\n",
    "$$ \\sigma^2(w_A, w_B) = \\sigma_A^2 w_A^2 + \\sigma_B^2 w_B^2 + 2 w_A w_B \\sigma_A \\sigma_B \\rho_{A,B} $$\n",
    "\n",
    "dimana $\\rho_{A,B}$ adalah korelasi dari A dan B.\n",
    "\n",
    "### Portfolio dengan Beberapa Aset\n",
    "\n",
    "Men-generalisasi formula di bagian sebelumnya, kalau portfolio berisi lebih dari dua aset, maka *return*-nya adalah:\n",
    "\n",
    "$$ R_p = \\sum_{i=1}^{k} w_i R_o $$\n",
    "\n",
    "Sedangkan volatilitasnya adalah:\n",
    "\n",
    "$$ \\sigma_p^2 = \\sum_{i=1}^{k} \\sum_{j=1}^{k} w_i w_j \\sigma_i \\sigma_j \\rho_{i, j} $$\n",
    "\n",
    "Volatilitas dari aset *i* dikali volatilitas dari aset *j* dikali korelasi dari aset *i* dan *j* adalah ***covariance*** dari aset *i* dan *j*, sehingga persamaan di atas bisa disederhanakan menjadi:\n",
    "\n",
    "$$ \\sigma_p^2 = \\sum_{i=1}^{k} \\sum_{j=1}^{k} w_i w_j \\sigma_{i, j} $$\n",
    "\n",
    "Di mana $\\sigma_{i,i}$ adalah ***covariance*** dari aset *i* dan *j*. Sebagai tambahan info, $\\sigma_{i,i}$ adalah *variance* dari aset *i* (karena $\\sigma_{i,i} = \\sigma_i \\sigma_i \\rho_{i,i}$ dan $\\rho_{i,i}$ tentunya adalah 1)."
   ]
  },
  {
   "cell_type": "markdown",
   "metadata": {},
   "source": [
    "### Notasi Matriks\n",
    "\n",
    "*Return* dari portfolio dengan menggunakan notasi matriks:\n",
    "\n",
    "$$ R_p = w^T R $$\n",
    "\n",
    "Sedangkan perhitungan volatilitas dari portfolio dapat disederhanakan menjadi:\n",
    "\n",
    "$$ \\sigma_p^2 = w^T \\Sigma w $$\n",
    "\n",
    "dimana $\\Sigma$ bukan notasi sum tapi adalah *covariance* matriks."
   ]
  },
  {
   "cell_type": "markdown",
   "metadata": {},
   "source": [
    "## Efficient Frontier\n",
    "\n",
    "[*Efficient frontier*](https://www.investopedia.com/terms/e/efficientfrontier.asp) yang ditemukan oleh pemenang Nobel Harry Markowitz di 1952, adalah kumpulan portfolio yang memberikan \"performansi\" yang paling optimal, yaitu memberikan *return* tertinggi untuk suatu resiko yang telah ditentukan, atau sebaliknya, resiko terendah untuk suatu *return* yang telah ditentukan.\n",
    "\n",
    "*Efficient frontier* sering digambarkan sebagai kurva seperti di bawah ini.\n",
    "\n",
    "![Kurva Efficient Frontier](10021-efficient-frontier.png)\n",
    "\n",
    "Sumbu X adalah resiko, dan sumbu Y adalah return. Untuk suatu pilihan aset-aset, kombinasi yang melambangkan *efficient frontier* dilambangkan dengan kurva garis merah. Kombinasi lain dari aset-aset yang menyimpang dari *efficient frontier* bukanlah kombinasi yang bagus. Misalnya, ambil titik A, yang melambangkan suatu portfolio dengan kombinasi alokasi aset-aset tertentu. Kita tidak akan mau memilih portfolio A ini, karena ada portfolio lain (artinya dengan menggunakan kombinasi alokasi aset yang berbeda) dimana untuk resiko yang sama kita bisa mendapatkan return yang lebih tinggi (yaitu titik B), atau dengan return yang sama kita bisa mendapatkan resiko yang lebih rendah (titik C)."
   ]
  },
  {
   "cell_type": "markdown",
   "metadata": {},
   "source": [
    "## Demo Menghitung Return dan Volatilitas Portfolio\n",
    "\n",
    "Kali ini kita akan mendemonstrasikan perhitungan return dan volatilitas dari portfolio. Data yang digunakan adalah data *return* bulanan beberapa industri/sektor mulai dari tahun 1926 sampai 2018. Data ini saya ambil dari kursus [Introduction to Portfolio Construction and Analysis with Python](https://www.coursera.org/learn/introduction-portfolio-construction-python) oleh Vijay Vaidyanathan. Datanya sendiri bersumber dari dan hak cipta oleh [Kenneth French](https://mba.tuck.dartmouth.edu/pages/faculty/ken.french/data_library.html)"
   ]
  },
  {
   "cell_type": "code",
   "execution_count": 24,
   "metadata": {},
   "outputs": [
    {
     "name": "stdout",
     "output_type": "stream",
     "text": [
      "Expected returns:\n",
      "Food     0.116799\n",
      "Beer     0.141126\n",
      "Smoke    0.107830\n",
      "Games    0.068212\n",
      "Books    0.187286\n",
      "Hshld    0.134766\n",
      "Clths    0.079160\n",
      "Hlth     0.246641\n",
      "Chems    0.077456\n",
      "Txtls   -0.042721\n",
      "Cnstr    0.084076\n",
      "Steel    0.115809\n",
      "FabPr    0.108280\n",
      "ElcEq    0.272420\n",
      "Autos    0.080954\n",
      "Carry    0.173904\n",
      "Mines   -0.053554\n",
      "Coal     0.414689\n",
      "Oil      0.165377\n",
      "Util     0.145903\n",
      "Telcm    0.122771\n",
      "Servs    0.175264\n",
      "BusEq    0.271952\n",
      "Paper    0.097163\n",
      "Trans    0.071099\n",
      "Whlsl    0.126431\n",
      "Rtail    0.207247\n",
      "Meals    0.067400\n",
      "Fin      0.223371\n",
      "Other    0.043349\n",
      "dtype: float64\n"
     ]
    }
   ],
   "source": [
    "import pandas as pd\n",
    "import numpy as np\n",
    "\n",
    "%matplotlib inline\n",
    "\n",
    "# Load data returns dari sektor2\n",
    "ind = pd.read_csv(\"ind30_m_vw_rets.csv\", header=0, index_col=0)/100\n",
    "\n",
    "# Ubah index jadi perioda bulanan\n",
    "ind.index = pd.to_datetime(ind.index, format=\"%Y%m\").to_period('M')\n",
    "\n",
    "# Hilangkan spasi pada kolom\n",
    "ind.columns = ind.columns.str.strip()\n",
    "\n",
    "# Batasi lingkup agar sama dengan di MOOC\n",
    "ind = ind[\"1996\":\"2000\"]\n",
    "\n",
    "# Konversi returns menjadi tahunan. \"er\" adalah expected return\n",
    "compounded_growth = (1+ind).prod()\n",
    "er = compounded_growth ** (12/ind.shape[0]) -1\n",
    "print('Expected returns:')\n",
    "print(er)"
   ]
  },
  {
   "cell_type": "markdown",
   "metadata": {},
   "source": [
    "Kita buat *covariance matrix*-nya."
   ]
  },
  {
   "cell_type": "code",
   "execution_count": 2,
   "metadata": {},
   "outputs": [],
   "source": [
    "# Covariance matrix\n",
    "cov = ind.cov()"
   ]
  },
  {
   "cell_type": "markdown",
   "metadata": {},
   "source": [
    "Agar lebih sederhana, kita pilih 4 industri saja dalam portfolio kita."
   ]
  },
  {
   "cell_type": "code",
   "execution_count": 3,
   "metadata": {
    "collapsed": true
   },
   "outputs": [],
   "source": [
    "assets = ['Food', 'Beer', 'Smoke', 'Coal']"
   ]
  },
  {
   "cell_type": "markdown",
   "metadata": {},
   "source": [
    "Expected returns dan covariance matrix untuk aset-aset ini:"
   ]
  },
  {
   "cell_type": "code",
   "execution_count": 4,
   "metadata": {},
   "outputs": [
    {
     "data": {
      "text/plain": [
       "Food     0.116799\n",
       "Beer     0.141126\n",
       "Smoke    0.107830\n",
       "Coal     0.414689\n",
       "dtype: float64"
      ]
     },
     "execution_count": 4,
     "metadata": {},
     "output_type": "execute_result"
    }
   ],
   "source": [
    "er[assets]"
   ]
  },
  {
   "cell_type": "code",
   "execution_count": 5,
   "metadata": {},
   "outputs": [
    {
     "data": {
      "text/html": [
       "<div>\n",
       "<style scoped>\n",
       "    .dataframe tbody tr th:only-of-type {\n",
       "        vertical-align: middle;\n",
       "    }\n",
       "\n",
       "    .dataframe tbody tr th {\n",
       "        vertical-align: top;\n",
       "    }\n",
       "\n",
       "    .dataframe thead th {\n",
       "        text-align: right;\n",
       "    }\n",
       "</style>\n",
       "<table border=\"1\" class=\"dataframe\">\n",
       "  <thead>\n",
       "    <tr style=\"text-align: right;\">\n",
       "      <th></th>\n",
       "      <th>Food</th>\n",
       "      <th>Beer</th>\n",
       "      <th>Smoke</th>\n",
       "      <th>Coal</th>\n",
       "    </tr>\n",
       "  </thead>\n",
       "  <tbody>\n",
       "    <tr>\n",
       "      <th>Food</th>\n",
       "      <td>0.002609</td>\n",
       "      <td>0.002379</td>\n",
       "      <td>0.002061</td>\n",
       "      <td>0.000027</td>\n",
       "    </tr>\n",
       "    <tr>\n",
       "      <th>Beer</th>\n",
       "      <td>0.002379</td>\n",
       "      <td>0.005264</td>\n",
       "      <td>0.001359</td>\n",
       "      <td>0.001728</td>\n",
       "    </tr>\n",
       "    <tr>\n",
       "      <th>Smoke</th>\n",
       "      <td>0.002061</td>\n",
       "      <td>0.001359</td>\n",
       "      <td>0.008349</td>\n",
       "      <td>-0.000733</td>\n",
       "    </tr>\n",
       "    <tr>\n",
       "      <th>Coal</th>\n",
       "      <td>0.000027</td>\n",
       "      <td>0.001728</td>\n",
       "      <td>-0.000733</td>\n",
       "      <td>0.018641</td>\n",
       "    </tr>\n",
       "  </tbody>\n",
       "</table>\n",
       "</div>"
      ],
      "text/plain": [
       "           Food      Beer     Smoke      Coal\n",
       "Food   0.002609  0.002379  0.002061  0.000027\n",
       "Beer   0.002379  0.005264  0.001359  0.001728\n",
       "Smoke  0.002061  0.001359  0.008349 -0.000733\n",
       "Coal   0.000027  0.001728 -0.000733  0.018641"
      ]
     },
     "execution_count": 5,
     "metadata": {},
     "output_type": "execute_result"
    }
   ],
   "source": [
    "cov.loc[assets, assets]"
   ]
  },
  {
   "cell_type": "markdown",
   "metadata": {},
   "source": [
    "Mari membuat fungsi untuk menghitung *expected return* dan volatilitas dari portfolio dengan operasi matriks seperti dijelaskan di atas."
   ]
  },
  {
   "cell_type": "code",
   "execution_count": 6,
   "metadata": {
    "collapsed": true
   },
   "outputs": [],
   "source": [
    "def portfolio_return(weights, returns):\n",
    "    return weights.T @ returns\n",
    "\n",
    "\n",
    "def portfolio_vol(weights, covmat):\n",
    "    return (weights.T @ covmat @ weights)**0.5"
   ]
  },
  {
   "cell_type": "markdown",
   "metadata": {},
   "source": [
    "Misalkan 4 aset tadi kita alokasikan secara seimbang:"
   ]
  },
  {
   "cell_type": "code",
   "execution_count": 7,
   "metadata": {},
   "outputs": [
    {
     "data": {
      "text/plain": [
       "array([0.25, 0.25, 0.25, 0.25])"
      ]
     },
     "execution_count": 7,
     "metadata": {},
     "output_type": "execute_result"
    }
   ],
   "source": [
    "weights = np.repeat(1/4, 4)\n",
    "weights"
   ]
  },
  {
   "cell_type": "markdown",
   "metadata": {},
   "source": [
    "Kita bisa hitung expected return dari portfolionya dengan alokasi ini:"
   ]
  },
  {
   "cell_type": "code",
   "execution_count": 8,
   "metadata": {},
   "outputs": [
    {
     "data": {
      "text/plain": [
       "0.19511097196038385"
      ]
     },
     "execution_count": 8,
     "metadata": {},
     "output_type": "execute_result"
    }
   ],
   "source": [
    "portfolio_return(weights, er[assets])"
   ]
  },
  {
   "cell_type": "markdown",
   "metadata": {},
   "source": [
    "Dan juga volatilitasnya:"
   ]
  },
  {
   "cell_type": "code",
   "execution_count": 9,
   "metadata": {
    "scrolled": true
   },
   "outputs": [
    {
     "data": {
      "text/plain": [
       "0.055059195776437045"
      ]
     },
     "execution_count": 9,
     "metadata": {},
     "output_type": "execute_result"
    }
   ],
   "source": [
    "portfolio_vol(weights, cov.loc[assets, assets])"
   ]
  },
  {
   "cell_type": "markdown",
   "metadata": {},
   "source": [
    "## Praktek Efficient Frontier dengan 2 Aset\n",
    "\n",
    "Agar lebih sederhana dalam pengaturan alokasi aset untuk portfolio, kita pilih hanya 2 aset saja. Kita akan mem-plot risk vs return dari beberapa kombinasi alokasi (*weight*)."
   ]
  },
  {
   "cell_type": "code",
   "execution_count": 10,
   "metadata": {},
   "outputs": [
    {
     "data": {
      "text/plain": [
       "[array([0., 1.]),\n",
       " array([0.05263158, 0.94736842]),\n",
       " array([0.10526316, 0.89473684]),\n",
       " array([0.15789474, 0.84210526]),\n",
       " array([0.21052632, 0.78947368]),\n",
       " array([0.26315789, 0.73684211]),\n",
       " array([0.31578947, 0.68421053]),\n",
       " array([0.36842105, 0.63157895]),\n",
       " array([0.42105263, 0.57894737]),\n",
       " array([0.47368421, 0.52631579]),\n",
       " array([0.52631579, 0.47368421]),\n",
       " array([0.57894737, 0.42105263]),\n",
       " array([0.63157895, 0.36842105]),\n",
       " array([0.68421053, 0.31578947]),\n",
       " array([0.73684211, 0.26315789]),\n",
       " array([0.78947368, 0.21052632]),\n",
       " array([0.84210526, 0.15789474]),\n",
       " array([0.89473684, 0.10526316]),\n",
       " array([0.94736842, 0.05263158]),\n",
       " array([1., 0.])]"
      ]
     },
     "execution_count": 10,
     "metadata": {},
     "output_type": "execute_result"
    }
   ],
   "source": [
    "# Pilih 2 aset\n",
    "assets = ['Games', 'Fin']\n",
    "\n",
    "# Generate kombinasi alokasi untuk dua aset \n",
    "N_POINTS = 20\n",
    "weights = [np.array([w, 1-w]) for w in np.linspace(0, 1, N_POINTS)]\n",
    "weights"
   ]
  },
  {
   "cell_type": "markdown",
   "metadata": {},
   "source": [
    "Sekarang mari kita hitung *returns* dari kombinasi alokasi di atas, dan kita masukkan dalam list."
   ]
  },
  {
   "cell_type": "code",
   "execution_count": 11,
   "metadata": {},
   "outputs": [
    {
     "data": {
      "text/plain": [
       "[0.22337143343356036,\n",
       " 0.21520512368930153,\n",
       " 0.20703881394504264,\n",
       " 0.19887250420078378,\n",
       " 0.19070619445652492,\n",
       " 0.18253988471226607,\n",
       " 0.17437357496800718,\n",
       " 0.16620726522374832,\n",
       " 0.15804095547948946,\n",
       " 0.14987464573523063,\n",
       " 0.14170833599097174,\n",
       " 0.13354202624671288,\n",
       " 0.12537571650245402,\n",
       " 0.11720940675819516,\n",
       " 0.1090430970139363,\n",
       " 0.10087678726967743,\n",
       " 0.09271047752541857,\n",
       " 0.08454416778115972,\n",
       " 0.07637785803690085,\n",
       " 0.06821154829264198]"
      ]
     },
     "execution_count": 11,
     "metadata": {},
     "output_type": "execute_result"
    }
   ],
   "source": [
    "rets = [portfolio_return(w, er[assets]) for w in weights]\n",
    "rets"
   ]
  },
  {
   "cell_type": "markdown",
   "metadata": {},
   "source": [
    "Kita lakukan hal yang sama untuk volatility."
   ]
  },
  {
   "cell_type": "code",
   "execution_count": 12,
   "metadata": {},
   "outputs": [
    {
     "data": {
      "text/plain": [
       "[0.0630997295785121,\n",
       " 0.06184548206317772,\n",
       " 0.06069878923524834,\n",
       " 0.05966585256137839,\n",
       " 0.058752672223312284,\n",
       " 0.05796490842860514,\n",
       " 0.05730773341483651,\n",
       " 0.05678568123574939,\n",
       " 0.056402504039475894,\n",
       " 0.0561610444586889,\n",
       " 0.05606313362372235,\n",
       " 0.05610952301512326,\n",
       " 0.056299855936855894,\n",
       " 0.05663268109748638,\n",
       " 0.05710550711027121,\n",
       " 0.05771489323047962,\n",
       " 0.05845656886221488,\n",
       " 0.05932557264732352,\n",
       " 0.06031640142594411,\n",
       " 0.061423159933946626]"
      ]
     },
     "execution_count": 12,
     "metadata": {},
     "output_type": "execute_result"
    }
   ],
   "source": [
    "vols = [portfolio_vol(w, cov.loc[assets,assets]) for w in weights]\n",
    "vols"
   ]
  },
  {
   "cell_type": "markdown",
   "metadata": {},
   "source": [
    "Mari kita gabungkan return dan volatilitas menjadi dataframe agar mudah diplot."
   ]
  },
  {
   "cell_type": "code",
   "execution_count": 13,
   "metadata": {},
   "outputs": [
    {
     "data": {
      "text/html": [
       "<div>\n",
       "<style scoped>\n",
       "    .dataframe tbody tr th:only-of-type {\n",
       "        vertical-align: middle;\n",
       "    }\n",
       "\n",
       "    .dataframe tbody tr th {\n",
       "        vertical-align: top;\n",
       "    }\n",
       "\n",
       "    .dataframe thead th {\n",
       "        text-align: right;\n",
       "    }\n",
       "</style>\n",
       "<table border=\"1\" class=\"dataframe\">\n",
       "  <thead>\n",
       "    <tr style=\"text-align: right;\">\n",
       "      <th></th>\n",
       "      <th>Return</th>\n",
       "      <th>Volatility</th>\n",
       "    </tr>\n",
       "  </thead>\n",
       "  <tbody>\n",
       "    <tr>\n",
       "      <th>0</th>\n",
       "      <td>0.223371</td>\n",
       "      <td>0.063100</td>\n",
       "    </tr>\n",
       "    <tr>\n",
       "      <th>1</th>\n",
       "      <td>0.215205</td>\n",
       "      <td>0.061845</td>\n",
       "    </tr>\n",
       "    <tr>\n",
       "      <th>2</th>\n",
       "      <td>0.207039</td>\n",
       "      <td>0.060699</td>\n",
       "    </tr>\n",
       "    <tr>\n",
       "      <th>3</th>\n",
       "      <td>0.198873</td>\n",
       "      <td>0.059666</td>\n",
       "    </tr>\n",
       "    <tr>\n",
       "      <th>4</th>\n",
       "      <td>0.190706</td>\n",
       "      <td>0.058753</td>\n",
       "    </tr>\n",
       "    <tr>\n",
       "      <th>5</th>\n",
       "      <td>0.182540</td>\n",
       "      <td>0.057965</td>\n",
       "    </tr>\n",
       "    <tr>\n",
       "      <th>6</th>\n",
       "      <td>0.174374</td>\n",
       "      <td>0.057308</td>\n",
       "    </tr>\n",
       "    <tr>\n",
       "      <th>7</th>\n",
       "      <td>0.166207</td>\n",
       "      <td>0.056786</td>\n",
       "    </tr>\n",
       "    <tr>\n",
       "      <th>8</th>\n",
       "      <td>0.158041</td>\n",
       "      <td>0.056403</td>\n",
       "    </tr>\n",
       "    <tr>\n",
       "      <th>9</th>\n",
       "      <td>0.149875</td>\n",
       "      <td>0.056161</td>\n",
       "    </tr>\n",
       "    <tr>\n",
       "      <th>10</th>\n",
       "      <td>0.141708</td>\n",
       "      <td>0.056063</td>\n",
       "    </tr>\n",
       "    <tr>\n",
       "      <th>11</th>\n",
       "      <td>0.133542</td>\n",
       "      <td>0.056110</td>\n",
       "    </tr>\n",
       "    <tr>\n",
       "      <th>12</th>\n",
       "      <td>0.125376</td>\n",
       "      <td>0.056300</td>\n",
       "    </tr>\n",
       "    <tr>\n",
       "      <th>13</th>\n",
       "      <td>0.117209</td>\n",
       "      <td>0.056633</td>\n",
       "    </tr>\n",
       "    <tr>\n",
       "      <th>14</th>\n",
       "      <td>0.109043</td>\n",
       "      <td>0.057106</td>\n",
       "    </tr>\n",
       "    <tr>\n",
       "      <th>15</th>\n",
       "      <td>0.100877</td>\n",
       "      <td>0.057715</td>\n",
       "    </tr>\n",
       "    <tr>\n",
       "      <th>16</th>\n",
       "      <td>0.092710</td>\n",
       "      <td>0.058457</td>\n",
       "    </tr>\n",
       "    <tr>\n",
       "      <th>17</th>\n",
       "      <td>0.084544</td>\n",
       "      <td>0.059326</td>\n",
       "    </tr>\n",
       "    <tr>\n",
       "      <th>18</th>\n",
       "      <td>0.076378</td>\n",
       "      <td>0.060316</td>\n",
       "    </tr>\n",
       "    <tr>\n",
       "      <th>19</th>\n",
       "      <td>0.068212</td>\n",
       "      <td>0.061423</td>\n",
       "    </tr>\n",
       "  </tbody>\n",
       "</table>\n",
       "</div>"
      ],
      "text/plain": [
       "      Return  Volatility\n",
       "0   0.223371    0.063100\n",
       "1   0.215205    0.061845\n",
       "2   0.207039    0.060699\n",
       "3   0.198873    0.059666\n",
       "4   0.190706    0.058753\n",
       "5   0.182540    0.057965\n",
       "6   0.174374    0.057308\n",
       "7   0.166207    0.056786\n",
       "8   0.158041    0.056403\n",
       "9   0.149875    0.056161\n",
       "10  0.141708    0.056063\n",
       "11  0.133542    0.056110\n",
       "12  0.125376    0.056300\n",
       "13  0.117209    0.056633\n",
       "14  0.109043    0.057106\n",
       "15  0.100877    0.057715\n",
       "16  0.092710    0.058457\n",
       "17  0.084544    0.059326\n",
       "18  0.076378    0.060316\n",
       "19  0.068212    0.061423"
      ]
     },
     "execution_count": 13,
     "metadata": {},
     "output_type": "execute_result"
    }
   ],
   "source": [
    "ef = pd.DataFrame(data={'Return': rets, \n",
    "                        'Volatility': vols})\n",
    "ef"
   ]
  },
  {
   "cell_type": "markdown",
   "metadata": {},
   "source": [
    "Sekarang mari kita plot volatility vs return-nya."
   ]
  },
  {
   "cell_type": "code",
   "execution_count": 14,
   "metadata": {},
   "outputs": [
    {
     "data": {
      "text/plain": [
       "<matplotlib.axes._subplots.AxesSubplot at 0x1a7ca0d5d68>"
      ]
     },
     "execution_count": 14,
     "metadata": {},
     "output_type": "execute_result"
    },
    {
     "data": {
      "image/png": "[encoded data removed]",
      "text/plain": [
       "<Figure size 1080x432 with 1 Axes>"
      ]
     },
     "metadata": {},
     "output_type": "display_data"
    }
   ],
   "source": [
    "ef.plot.line(x='Volatility', y='Return', \n",
    "             title='Efficient Frontier dengan Dua Aset ({} dan {})'.format(assets[0], assets[1]),\n",
    "             figsize=(15,6), style='.-')"
   ]
  },
  {
   "cell_type": "markdown",
   "metadata": {},
   "source": [
    "Done! Kita telah menggambar *efficient frontier* untuk 2 aset."
   ]
  },
  {
   "cell_type": "markdown",
   "metadata": {},
   "source": [
    "## Praktek *Efficient Frontier* untuk Beberapa Aset\n",
    "\n",
    "Garis besar langkah-langkahnya kurang lebih adalah sebagai berikut:\n",
    "- kita tahu return terkecil dari portfolio adalah kalau 100% alokasi diberikan kepada aset dengan return terkecil, dan return terbesar dari portfolio adalah kalau 100% alokasi diberikan kepada aset dengan return terbesar. Maka return terkecil dan terbesar ini adalah titik awal dan akhir dari kurva EF kita (return terkecil adalah ujung bawah kurva, return terbesar adalah ujung atas kurva). Contoh:\n",
    "  - misalnya return terkecil diberikan oleh aset A yaitu sebesar 10% dan return terbesar diberikan oleh aset B yaitu 90%.\n",
    "- lalu kita bagi *range* dari return terendah-tertinggi di atas menjadi beberapa bagian (`n_points`). Contoh:\n",
    "  - misalnya kita bagi menjadi 20 bagian (`n_points=20`), maka kita akan mempunyai list dengan isi 20 element, mulai dari return terendah yaitu 10% sampai tertinggi yaitu 90%: `[10.0, 14.2, 18.4, ..., 85.8, 90.0]`\n",
    "- tiap-tiap bagian merepresentasikan suatu *return* tertentu. Untuk setiap return ini, kita akan mencari alokasi (*weights*) yang tepat yang dapat memberikan volatilitas yang terendah. Proses ini dilakukan di fungsi `minimize_vol()` di bawah. Fungsi ini memanggil fungsi [`minimize()`](https://docs.scipy.org/doc/scipy/reference/generated/scipy.optimize.minimize.html) yang disediakan oleh pustaka `scipy.optimize`.\n",
    "- pada akhir iterasi, kita mendapatkan kombinasi *weights* yang tepat yang memberikan volatilitas terendah untuk setiap *return* pada *slice* yang kita tentukan di atas.\n",
    "- dengan *weights* itu, kita bisa hitung volatilitas dari portfolio dengan memanggil `portfolio_vol()`, dan juga returnnya dengan memanggil `portfolio_return()`.\n",
    "- dengan return dan volatilitas di tangan, kita bisa membuat grafik *efficient frontier*.\n",
    "\n",
    "Kali ini langsung akan saya copy-paste kodenya dari lab MOOC [Introduction to Portfolio Construction and Analysis with Python](https://www.coursera.org/learn/introduction-portfolio-construction-python) minggu kedua."
   ]
  },
  {
   "cell_type": "code",
   "execution_count": 15,
   "metadata": {
    "collapsed": true
   },
   "outputs": [],
   "source": [
    "from scipy.optimize import minimize\n",
    "\n",
    "def minimize_vol(target_return, er, cov):\n",
    "    \"\"\"\n",
    "    Returns the optimal weights that achieve the target return\n",
    "    given a set of expected returns and a covariance matrix\n",
    "    \"\"\"\n",
    "    n = er.shape[0]\n",
    "    init_guess = np.repeat(1/n, n)\n",
    "    bounds = ((0.0, 1.0),) * n # an N-tuple of 2-tuples!\n",
    "    # construct the constraints\n",
    "    weights_sum_to_1 = {'type': 'eq',\n",
    "                        'fun': lambda weights: np.sum(weights) - 1\n",
    "    }\n",
    "    return_is_target = {'type': 'eq',\n",
    "                        'args': (er,),\n",
    "                        'fun': lambda weights, er: target_return - portfolio_return(weights,er)\n",
    "    }\n",
    "    weights = minimize(portfolio_vol, init_guess,\n",
    "                       args=(cov,), method='SLSQP',\n",
    "                       options={'disp': False},\n",
    "                       constraints=(weights_sum_to_1,return_is_target),\n",
    "                       bounds=bounds)\n",
    "    return weights.x\n",
    "\n",
    "\n",
    "def optimal_weights(n_points, er, cov):\n",
    "    \"\"\"\n",
    "    \"\"\"\n",
    "    target_rs = np.linspace(er.min(), er.max(), n_points)\n",
    "    weights = [minimize_vol(target_return, er, cov) for target_return in target_rs]\n",
    "    return weights\n",
    "\n",
    "\n",
    "def plot_ef(n_points, er, cov):\n",
    "    \"\"\"\n",
    "    Plots the multi-asset efficient frontier\n",
    "    \"\"\"\n",
    "    weights = optimal_weights(n_points, er, cov)\n",
    "    rets = [portfolio_return(w, er) for w in weights]\n",
    "    vols = [portfolio_vol(w, cov) for w in weights]\n",
    "    ef = pd.DataFrame({\n",
    "        \"Returns\": rets, \n",
    "        \"Volatility\": vols\n",
    "    })\n",
    "    ax = ef.plot.line(x=\"Volatility\", y=\"Returns\", style='.-', \n",
    "                      label='Efficient Frontier', legend=True, figsize=(15,6))\n",
    "    ax.set_ylabel('Returns')\n",
    "    ax.set_xlim(left=0)\n",
    "    ax.set_ylim(bottom=0)\n",
    "    return ax"
   ]
  },
  {
   "cell_type": "code",
   "execution_count": 32,
   "metadata": {},
   "outputs": [
    {
     "data": {
      "text/plain": [
       "<matplotlib.axes._subplots.AxesSubplot at 0x1a7d8d01898>"
      ]
     },
     "execution_count": 32,
     "metadata": {},
     "output_type": "execute_result"
    },
    {
     "data": {
      "image/png": "[encoded data removed]",
      "text/plain": [
       "<Figure size 1080x432 with 1 Axes>"
      ]
     },
     "metadata": {},
     "output_type": "display_data"
    }
   ],
   "source": [
    "assets = ['Smoke', 'Fin', 'Games', 'Coal']\n",
    "plot_ef(25, er[assets], cov.loc[assets, assets])"
   ]
  },
  {
   "cell_type": "markdown",
   "metadata": {},
   "source": [
    "Whoa! It works!"
   ]
  },
  {
   "cell_type": "markdown",
   "metadata": {
    "collapsed": true
   },
   "source": [
    "# Capital Market Line (CML)\n",
    "\n",
    "*Capital Market Line* (CML) adalah kurva yang menggambarkan grafik resiko vs *return* dari portfolio yang merupakan gabungan dari *risk free asset* dan *risky asset*. Garis CML menggambarkan *return* dari portfolio yang naik seiring dengan ditambahkannya *risky asset* dalam portfolio, seperti dalam grafik di bawah ini.\n",
    "\n",
    "![Capital Market Line](10021-capital-market-line.png)\n",
    "\n",
    "Pada alokasi yang optimal antara *risk free* dan *risky asset*, portfolio akan menghasilkan nilai Sharpe Ratio yang optimal. Titik ini adalah persinggungan antara kurva *Capital Market Line* dan *Efficient Frontier*, seperti terlihat dalam gambar di bawah.\n",
    "\n",
    "![Capital Market Line EF](10021-capital-market-line-ef.png)\n",
    "\n",
    "Dan titik-titik dalam garis CML adalah kurva risk-return yang optimal untuk portolio yang merupakan perpaduan antara *risk free asset* dan *risky asset*."
   ]
  },
  {
   "cell_type": "markdown",
   "metadata": {
    "collapsed": true
   },
   "source": [
    "## Praktek: Mencari Titik Maximum Sharpe Ratio (MSR)\n",
    "\n",
    "Fungsi di bawah mencari titik MSR dan menggambarkannya ke grafik EF."
   ]
  },
  {
   "cell_type": "code",
   "execution_count": 45,
   "metadata": {
    "collapsed": true
   },
   "outputs": [],
   "source": [
    "# Credit: Vijay Vaidyanathan\n",
    "# https://www.coursera.org/learn/introduction-portfolio-construction-python\n",
    "def msr(riskfree_rate, er, cov):\n",
    "    \"\"\"\n",
    "    Returns the weights of the portfolio that gives you the maximum sharpe ratio\n",
    "    given the riskfree rate and expected returns and a covariance matrix\n",
    "    \"\"\"\n",
    "    n = er.shape[0]\n",
    "    init_guess = np.repeat(1/n, n)\n",
    "    bounds = ((0.0, 1.0),) * n # an N-tuple of 2-tuples!\n",
    "    # construct the constraints\n",
    "    weights_sum_to_1 = {'type': 'eq',\n",
    "                        'fun': lambda weights: np.sum(weights) - 1\n",
    "    }\n",
    "    def neg_sharpe(weights, riskfree_rate, er, cov):\n",
    "        \"\"\"\n",
    "        Returns the negative of the sharpe ratio\n",
    "        of the given portfolio\n",
    "        \"\"\"\n",
    "        r = portfolio_return(weights, er)\n",
    "        vol = portfolio_vol(weights, cov)\n",
    "        return -(r - riskfree_rate)/vol\n",
    "    \n",
    "    weights = minimize(neg_sharpe, init_guess,\n",
    "                       args=(riskfree_rate, er, cov), method='SLSQP',\n",
    "                       options={'disp': False},\n",
    "                       constraints=(weights_sum_to_1,),\n",
    "                       bounds=bounds)\n",
    "    return weights.x"
   ]
  },
  {
   "cell_type": "code",
   "execution_count": 43,
   "metadata": {},
   "outputs": [
    {
     "data": {
      "image/png": "[encoded data removed]",
      "text/plain": [
       "<Figure size 1080x432 with 1 Axes>"
      ]
     },
     "metadata": {},
     "output_type": "display_data"
    }
   ],
   "source": [
    "def plot_cml(ax, riskfree_rate, w_msr, er, cov):\n",
    "    r = portfolio_return(w_msr, er)\n",
    "    vol = portfolio_vol(w_msr, cov)\n",
    "\n",
    "    x = [0, vol]\n",
    "    y = [riskfree_rate, r]\n",
    "    ax.plot(x, y, color='green', marker='o', label='CML',\n",
    "            linestyle='-', linewidth=2, markersize=10)\n",
    "    ax.legend()\n",
    "\n",
    "RISKFREE_RATE = 0.10\n",
    "ax = plot_ef(25, er[assets], cov.loc[assets, assets])\n",
    "w_msr = msr(RISKFREE_RATE, er[assets], cov.loc[assets, assets])\n",
    "plot_cml(ax, RISKFREE_RATE, w_msr, er[assets], cov.loc[assets, assets])"
   ]
  },
  {
   "cell_type": "markdown",
   "metadata": {},
   "source": [
    "## Kelemahan *Efficient Frontier*\n",
    "\n",
    "Walaupun pada awalnya *Efficient frontier* terlihat sangat menjanjikan, ternyata kemudian diketahui bahwa pendekatan ini mempunyai kelemahan yang cukup fatal, yang bahkan membuatnya kurang layak (*feasible*) untuk dipakai. Kelemahannya adalah, EF membutuhkan nilai *expected return* yang akurat, dan sedikit perbedaan pada nilai *expected return* akan menyebabkan perubahan yang drastis pada alokasi terhadap aset-asetnya.\n",
    "\n",
    "Yuk kita demonstrasikan berikut. Agar sederhanan kita pakai dua aset saja."
   ]
  },
  {
   "cell_type": "code",
   "execution_count": 35,
   "metadata": {
    "collapsed": true
   },
   "outputs": [],
   "source": [
    "assets = ['Food', 'Steel']"
   ]
  },
  {
   "cell_type": "markdown",
   "metadata": {},
   "source": [
    "Expected return dari kedua asset di atas adalah:"
   ]
  },
  {
   "cell_type": "code",
   "execution_count": 36,
   "metadata": {},
   "outputs": [
    {
     "data": {
      "text/plain": [
       "Food     0.116799\n",
       "Steel    0.115809\n",
       "dtype: float64"
      ]
     },
     "execution_count": 36,
     "metadata": {},
     "output_type": "execute_result"
    }
   ],
   "source": [
    "er[assets]"
   ]
  },
  {
   "cell_type": "markdown",
   "metadata": {},
   "source": [
    "MSR untuk dua asset di atas adalah:"
   ]
  },
  {
   "cell_type": "code",
   "execution_count": 37,
   "metadata": {},
   "outputs": [
    {
     "data": {
      "text/plain": [
       "array([0.75040362, 0.24959638])"
      ]
     },
     "execution_count": 37,
     "metadata": {},
     "output_type": "execute_result"
    }
   ],
   "source": [
    "msr(RISKFREE_RATE, er[assets], cov.loc[assets, assets])"
   ]
  },
  {
   "cell_type": "markdown",
   "metadata": {},
   "source": [
    "Jadi alokasi yang optimal adalah Food 75% dan Steel 25%.\n",
    "\n",
    "Sekarang mari kita lihat perubahan pada alokasi aset kalau *expected return* dari asetnya kita rubah sedikit."
   ]
  },
  {
   "cell_type": "code",
   "execution_count": 38,
   "metadata": {},
   "outputs": [
    {
     "data": {
      "text/plain": [
       "array([0.57930354, 0.42069646])"
      ]
     },
     "execution_count": 38,
     "metadata": {},
     "output_type": "execute_result"
    }
   ],
   "source": [
    "msr(RISKFREE_RATE, np.array([0.11, 0.12]), cov.loc[assets, assets])"
   ]
  },
  {
   "cell_type": "markdown",
   "metadata": {},
   "source": [
    "Maka prosentase alokasinya sudah berubah jauh. Padahal perubahannya tidak sampai 1%. \n",
    "\n",
    "Sekarang coba kita rubah *expected return*-nya lebih banyak."
   ]
  },
  {
   "cell_type": "code",
   "execution_count": 39,
   "metadata": {},
   "outputs": [
    {
     "data": {
      "text/plain": [
       "array([0., 1.])"
      ]
     },
     "execution_count": 39,
     "metadata": {},
     "output_type": "execute_result"
    }
   ],
   "source": [
    "msr(RISKFREE_RATE, np.array([0.10, 0.13]), cov.loc[assets, assets])"
   ]
  },
  {
   "cell_type": "markdown",
   "metadata": {},
   "source": [
    "Wow! Sekarang MSR mengalokasikan 100% ke aset Steel. Demikian juga kalau kita rubah sebaliknya:"
   ]
  },
  {
   "cell_type": "code",
   "execution_count": 40,
   "metadata": {},
   "outputs": [
    {
     "data": {
      "text/plain": [
       "array([1., 0.])"
      ]
     },
     "execution_count": 40,
     "metadata": {},
     "output_type": "execute_result"
    }
   ],
   "source": [
    "msr(RISKFREE_RATE, np.array([0.13, 0.10]), cov.loc[assets, assets])"
   ]
  },
  {
   "cell_type": "markdown",
   "metadata": {},
   "source": [
    "Maka MSR mengalokasikan 100% ke Food. Padahal perubahannya tidak sampai 2%.\n",
    "\n",
    "Dalam dunia nyata, kita harus ingat bahwa nilai *expected return* adalah nilai ramalan dari *return* suatu aset untuk periode ke depan. Nilai ini dibuat oleh analis. Kalaupun ada kesalahan 2%, maka di dunia nyata ini sudah merupakan ramalan yang sangat bagus. Namun ternyata hal ini menghasilkan perubahan alokasi yang sangat drastis jika kita memakai MSR.\n",
    "\n",
    "Oleh karena itu orang kemudian memakai perhitungan alokasi lain, misalnya GMV di bawah ini."
   ]
  },
  {
   "cell_type": "markdown",
   "metadata": {},
   "source": [
    "## Global Minimum Variance (GMV) Portfolio\n",
    "\n",
    "GMV portfolio adalah portfolio dengan volatilitas terendah yang mungkin dicapai dengan mengombinasikan aset-aset yang ada. Dalam grafik EF, titik GMV adalah ujung \"hidung\" kurva EF, seperti terlihat di bawah.\n",
    "\n",
    "![Global Minimum Variance](10021-global-minimum-variance.png)\n",
    "\n",
    "Kelebihan GMV adalah perhitungannya hanya membutuhkan matriks *covariance*, dan tidak membutuhkan *expected return*, sehingga terbebas dari masalah kesalahan pada prediksi *expected return* di atas."
   ]
  },
  {
   "cell_type": "markdown",
   "metadata": {},
   "source": [
    "## Menghitung GMV"
   ]
  },
  {
   "cell_type": "code",
   "execution_count": 44,
   "metadata": {
    "collapsed": true
   },
   "outputs": [],
   "source": [
    "# Credit: Vijay Vaidyanathan\n",
    "# https://www.coursera.org/learn/introduction-portfolio-construction-python\n",
    "def gmv(cov):\n",
    "    \"\"\"\n",
    "    Returns the weights of the Global Minimum Volatility portfolio\n",
    "    given a covariance matrix\n",
    "    \"\"\"\n",
    "    n = cov.shape[0]\n",
    "    return msr(0, np.repeat(1, n), cov)\n"
   ]
  },
  {
   "cell_type": "code",
   "execution_count": 46,
   "metadata": {},
   "outputs": [
    {
     "data": {
      "image/png": "[encoded data removed]",
      "text/plain": [
       "<Figure size 1080x432 with 1 Axes>"
      ]
     },
     "metadata": {},
     "output_type": "display_data"
    }
   ],
   "source": [
    "assets = ['Smoke', 'Fin', 'Games', 'Coal']\n",
    "\n",
    "def plot_point(ax, weights, er, cov, label, color='C1'):\n",
    "    r = portfolio_return(weights, er)\n",
    "    vol = portfolio_vol(weights, cov)\n",
    "\n",
    "    x = [vol]\n",
    "    y = [r]\n",
    "    ax.plot([vol], [r], color=color, marker='o', label=label,\n",
    "            linestyle='-', linewidth=2, markersize=10)\n",
    "    ax.legend()\n",
    "\n",
    "ax = plot_ef(25, er[assets], cov.loc[assets, assets])\n",
    "w_gmv = gmv(cov.loc[assets, assets])\n",
    "plot_point(ax, w_gmv, er[assets], cov.loc[assets, assets], 'GMV')"
   ]
  },
  {
   "cell_type": "markdown",
   "metadata": {},
   "source": [
    "## Alokasi Seimbang\n",
    "\n",
    "Sebagai pelengkap, kita gambarkan titik risk/return jika kita mengalokasikan aset secara merata."
   ]
  },
  {
   "cell_type": "code",
   "execution_count": 50,
   "metadata": {},
   "outputs": [
    {
     "data": {
      "image/png": "[encoded data removed]",
      "text/plain": [
       "<Figure size 1080x432 with 1 Axes>"
      ]
     },
     "metadata": {},
     "output_type": "display_data"
    }
   ],
   "source": [
    "n_assets = len(assets)\n",
    "ax = plot_ef(25, er[assets], cov.loc[assets, assets])\n",
    "w_ew = np.repeat(1/n_assets, n_assets)\n",
    "plot_point(ax, w_ew, er[assets], cov.loc[assets, assets], 'Equal weights', color='C4')"
   ]
  },
  {
   "cell_type": "code",
   "execution_count": null,
   "metadata": {
    "collapsed": true
   },
   "outputs": [],
   "source": []
  }
 ],
 "metadata": {
  "kernelspec": {
   "display_name": "Python 3",
   "language": "python",
   "name": "python [root]"
  },
  "language_info": {
   "codemirror_mode": {
    "name": "ipython",
    "version": 3
   },
   "file_extension": ".py",
   "mimetype": "text/x-python",
   "name": "python",
   "nbconvert_exporter": "python",
   "pygments_lexer": "ipython3",
   "version": "3.5.3"
  }
 },
 "nbformat": 4,
 "nbformat_minor": 1
}
