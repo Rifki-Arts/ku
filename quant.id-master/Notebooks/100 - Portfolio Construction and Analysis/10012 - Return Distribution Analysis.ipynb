{
 "cells": [
  {
   "cell_type": "markdown",
   "metadata": {},
   "source": [
    "Pada studi ini kita akan menganalisa distribusi probabilitas dari *return*. Orang sering menggunakan distribusi normal (Gaussian) untuk menganalisa *return*, padahal distribusi dari *return* biasanya bukan distribusi normal. Kesalahan ini dapat berakibat fatal pada hasil analisisnya."
   ]
  },
  {
   "cell_type": "markdown",
   "metadata": {},
   "source": [
    "## Data\n",
    "\n",
    "Untuk data, kita akan memuat data *return* bulanan selama periode 1926 - 2018 dari saham *smallcaps* dan *largecaps* di bursa Amerika. Saham *small caps* dan *large caps* didefinisikan sebagai saham di *quantile* 10% bawah dan atas.\n",
    "\n",
    "Kita memuat datanya sebagai berikut."
   ]
  },
  {
   "cell_type": "code",
   "execution_count": 47,
   "metadata": {
    "collapsed": false
   },
   "outputs": [
    {
     "data": {
      "text/html": [
       "<div>\n",
       "<style scoped>\n",
       "    .dataframe tbody tr th:only-of-type {\n",
       "        vertical-align: middle;\n",
       "    }\n",
       "\n",
       "    .dataframe tbody tr th {\n",
       "        vertical-align: top;\n",
       "    }\n",
       "\n",
       "    .dataframe thead th {\n",
       "        text-align: right;\n",
       "    }\n",
       "</style>\n",
       "<table border=\"1\" class=\"dataframe\">\n",
       "  <thead>\n",
       "    <tr style=\"text-align: right;\">\n",
       "      <th></th>\n",
       "      <th>SmallCap</th>\n",
       "      <th>LargeCap</th>\n",
       "    </tr>\n",
       "    <tr>\n",
       "      <th>date</th>\n",
       "      <th></th>\n",
       "      <th></th>\n",
       "    </tr>\n",
       "  </thead>\n",
       "  <tbody>\n",
       "    <tr>\n",
       "      <th>1926-07</th>\n",
       "      <td>-0.0145</td>\n",
       "      <td>0.0329</td>\n",
       "    </tr>\n",
       "    <tr>\n",
       "      <th>1926-08</th>\n",
       "      <td>0.0512</td>\n",
       "      <td>0.0370</td>\n",
       "    </tr>\n",
       "    <tr>\n",
       "      <th>1926-09</th>\n",
       "      <td>0.0093</td>\n",
       "      <td>0.0067</td>\n",
       "    </tr>\n",
       "    <tr>\n",
       "      <th>1926-10</th>\n",
       "      <td>-0.0484</td>\n",
       "      <td>-0.0243</td>\n",
       "    </tr>\n",
       "    <tr>\n",
       "      <th>1926-11</th>\n",
       "      <td>-0.0078</td>\n",
       "      <td>0.0270</td>\n",
       "    </tr>\n",
       "  </tbody>\n",
       "</table>\n",
       "</div>"
      ],
      "text/plain": [
       "         SmallCap  LargeCap\n",
       "date                       \n",
       "1926-07   -0.0145    0.0329\n",
       "1926-08    0.0512    0.0370\n",
       "1926-09    0.0093    0.0067\n",
       "1926-10   -0.0484   -0.0243\n",
       "1926-11   -0.0078    0.0270"
      ]
     },
     "execution_count": 47,
     "metadata": {},
     "output_type": "execute_result"
    }
   ],
   "source": [
    "import matplotlib.pyplot as plt\n",
    "import numpy as np\n",
    "import pandas as pd\n",
    "from IPython.display import display, Markdown, HTML\n",
    "\n",
    "%matplotlib inline\n",
    "FIGSIZE=(8,4)\n",
    "\n",
    "returns = pd.read_csv('SmallLargeCapReturns.csv', index_col='date', parse_dates=True)\n",
    "returns.index = returns.index.to_period('M')\n",
    "returns.head()"
   ]
  },
  {
   "cell_type": "markdown",
   "metadata": {},
   "source": [
    "## Distribusi Normal\n",
    "\n",
    "Sekarang mari kita mensintesis data *return* bulanan dengan distribusi Normal, dengan menggunakan ***mean*** dan *standard deviation* (***std***) dari data *return* dari saham *SmallCap*.\n",
    "\n",
    "Kita hitung *mean* dan *standard deviasi*-nya sebagai berikut:"
   ]
  },
  {
   "cell_type": "code",
   "execution_count": 32,
   "metadata": {
    "collapsed": false
   },
   "outputs": [
    {
     "name": "stdout",
     "output_type": "stream",
     "text": [
      "N: 1110, mean: 0.017597567567567567, std: 0.10628817804909388\n"
     ]
    }
   ],
   "source": [
    "N = len(returns)\n",
    "mean = returns['SmallCap'].mean()\n",
    "std = returns['SmallCap'].std()\n",
    "print('N: {}, mean: {}, std: {}'.format(N, mean, std))"
   ]
  },
  {
   "cell_type": "markdown",
   "metadata": {},
   "source": [
    "Setelah itu kita bisa mensintesis data buatan dengan distribusi Normal dengan kedua parameter di atas, lalu kita simpan sebagai Pandas Series agar mudah di-*plot*, sebagai berikut. "
   ]
  },
  {
   "cell_type": "code",
   "execution_count": 51,
   "metadata": {
    "collapsed": false
   },
   "outputs": [],
   "source": [
    "np.random.seed(11)\n",
    "norm_returns = pd.Series(np.random.normal(mean, std, N))"
   ]
  },
  {
   "cell_type": "markdown",
   "metadata": {},
   "source": [
    "Kita bisa verifikasi *mean* dan standard deviasinya sesuai (catatan: ketidaksesuaian *mean* dan *std* dari random samples ini biasanya disebabkan karena jumlah samples yang kita sintesis tidak banyak. Semakin besar N, maka *mean* dan *std* akan semakin mendekati parameternya):"
   ]
  },
  {
   "cell_type": "code",
   "execution_count": 53,
   "metadata": {
    "collapsed": false
   },
   "outputs": [
    {
     "name": "stdout",
     "output_type": "stream",
     "text": [
      "Mean: 0.017987121144709076, std: 0.10673074427400601\n"
     ]
    }
   ],
   "source": [
    "print('Mean: {}, std: {}'.format(norm_returns.mean(), norm_returns.std()))"
   ]
  },
  {
   "cell_type": "markdown",
   "metadata": {},
   "source": [
    "Cukup dekat.\n",
    "\n",
    "Selanjutnya kita akan gambarkan *return* bulanan yang kita sintesa di atas. Dalam grafik di bawah, kita gambarkan juga garis oranye yang mencerminkan standard deviasi +3 dan -3, yang mencerminkan 0.9973 dan 0.0027 *quantile* dari data kita. Artinya, hanya ada kemungkinan 0.54% (=0.0027\\*2) bahwa *sample*-nya di atas atau di bawah garis ini. Dalam konteks *return* bulanan, kejadian ini hanya akan terjadi setiap 15 tahun (=1/0.0054)."
   ]
  },
  {
   "cell_type": "code",
   "execution_count": 54,
   "metadata": {
    "collapsed": false
   },
   "outputs": [
    {
     "data": {
      "text/plain": [
       "<matplotlib.legend.Legend at 0x17267743208>"
      ]
     },
     "execution_count": 54,
     "metadata": {},
     "output_type": "execute_result"
    },
    {
     "data": {
      "image/png": "[encoded data removed]",
      "text/plain": [
       "<Figure size 1080x432 with 1 Axes>"
      ]
     },
     "metadata": {},
     "output_type": "display_data"
    }
   ],
   "source": [
    "fig, ax = plt.subplots(figsize=(15,6))\n",
    "x = range(N)\n",
    "ax.bar(x, norm_returns, label='Monthly Return')\n",
    "ax.axhline(mean + 3 * std, color='C1', label='0.997 quantile')\n",
    "ax.axhline(mean - 3 * std, color='C1', label='0.003 quantile')\n",
    "ax.set_title('Normally Distributed Returns (Simulated)')\n",
    "ax.legend()"
   ]
  },
  {
   "cell_type": "markdown",
   "metadata": {},
   "source": [
    "Terlihat di atas bahwa return bulanan berapa di luar batas +/- 3 SD hanya dua kali.\n",
    "\n",
    "Kalau kita *plot* distribusinya sebagai histogram:"
   ]
  },
  {
   "cell_type": "code",
   "execution_count": 55,
   "metadata": {
    "collapsed": false
   },
   "outputs": [
    {
     "data": {
      "text/plain": [
       "<matplotlib.axes._subplots.AxesSubplot at 0x1726778f588>"
      ]
     },
     "execution_count": 55,
     "metadata": {},
     "output_type": "execute_result"
    },
    {
     "data": {
      "image/png": "[encoded data removed]",
      "text/plain": [
       "<Figure size 432x288 with 1 Axes>"
      ]
     },
     "metadata": {},
     "output_type": "display_data"
    }
   ],
   "source": [
    "norm_returns.hist()"
   ]
  },
  {
   "cell_type": "markdown",
   "metadata": {},
   "source": [
    "Maka tampak histogram yang bentuknya mirip dengan distribusi normal. Kalaupun ada perbedaan, ini dikarenakan jumlah sampel yang kita sintesis tidak cukup banyak."
   ]
  },
  {
   "cell_type": "markdown",
   "metadata": {},
   "source": [
    "## Distribusi dari Return Aktual\n",
    "\n",
    "Dengan mekanisme yang sama, mari kita gambarkan *return* yang sebenarnya dari aset *SmallCap*."
   ]
  },
  {
   "cell_type": "code",
   "execution_count": 40,
   "metadata": {
    "collapsed": false
   },
   "outputs": [
    {
     "data": {
      "text/plain": [
       "<matplotlib.legend.Legend at 0x17266280780>"
      ]
     },
     "execution_count": 40,
     "metadata": {},
     "output_type": "execute_result"
    },
    {
     "data": {
      "image/png": "[encoded data removed]",
      "text/plain": [
       "<Figure size 1080x432 with 1 Axes>"
      ]
     },
     "metadata": {},
     "output_type": "display_data"
    }
   ],
   "source": [
    "fig, ax = plt.subplots(figsize=(15,6))\n",
    "x = range(len(returns))\n",
    "ax.bar(x, returns['SmallCap'], label='Monthly returns')\n",
    "ax.axhline(mean + 3 * std, color='C1', label='0.997 quantile')\n",
    "ax.axhline(mean - 3 * std, color='C1', label='0.003 quantile')\n",
    "ax.set_title('Actual Monthly Returns')\n",
    "ax.legend()"
   ]
  },
  {
   "cell_type": "markdown",
   "metadata": {},
   "source": [
    "Terlihat bahwa *return* yang aktual lebih banyak melampaui batas +/- 3 SD. Kita bisa menghitung berapa kali dia melampai batas dengan kode berikut."
   ]
  },
  {
   "cell_type": "code",
   "execution_count": 45,
   "metadata": {
    "collapsed": false
   },
   "outputs": [
    {
     "name": "stdout",
     "output_type": "stream",
     "text": [
      "+3 SD: 0.33646210171484925, -3 SD: -0.3012669665797141\n"
     ]
    },
    {
     "data": {
      "text/plain": [
       "date\n",
       "1932-07    0.4819\n",
       "1932-08    1.3429\n",
       "1933-04    0.5569\n",
       "1933-05    1.0981\n",
       "1933-06    0.4769\n",
       "1934-01    0.5368\n",
       "1935-11    0.4926\n",
       "1936-01    0.4636\n",
       "1939-09    1.1188\n",
       "1942-01    0.5684\n",
       "1943-01    0.4869\n",
       "1943-02    0.4657\n",
       "Freq: M, Name: SmallCap, dtype: float64"
      ]
     },
     "execution_count": 45,
     "metadata": {},
     "output_type": "execute_result"
    }
   ],
   "source": [
    "plus3sd = returns['SmallCap'].mean() + 3 * returns['SmallCap'].std()\n",
    "minus3sd = returns['SmallCap'].mean() - 3 * returns['SmallCap'].std()\n",
    "print('+3 SD: {}, -3 SD: {}'.format(plus3sd, minus3sd))\n",
    "\n",
    "outside = returns[(returns['SmallCap'] > plus3sd) | (returns['SmallCap'] < minus3sd)]\n",
    "outside['SmallCap']"
   ]
  },
  {
   "cell_type": "markdown",
   "metadata": {},
   "source": [
    "Kita juga bisa *plot* distribusinya sebagai histogram:"
   ]
  },
  {
   "cell_type": "code",
   "execution_count": 49,
   "metadata": {
    "collapsed": false
   },
   "outputs": [
    {
     "data": {
      "text/plain": [
       "<matplotlib.axes._subplots.AxesSubplot at 0x1726640c7b8>"
      ]
     },
     "execution_count": 49,
     "metadata": {},
     "output_type": "execute_result"
    },
    {
     "data": {
      "image/png": "[encoded data removed]",
      "text/plain": [
       "<Figure size 432x288 with 1 Axes>"
      ]
     },
     "metadata": {},
     "output_type": "display_data"
    }
   ],
   "source": [
    "returns['SmallCap'].hist()"
   ]
  },
  {
   "cell_type": "markdown",
   "metadata": {
    "collapsed": true
   },
   "source": [
    "Histogram di atas bukanlah distribusi Normal, karena tidak simetris dan juga mempunyai ekor yang panjang (*fat tail*). Kedua karakteristik ini disebut *skewness* dan *kurtosis*."
   ]
  },
  {
   "cell_type": "markdown",
   "metadata": {},
   "source": [
    "## Skewness dan Kurtosis\n",
    "\n",
    "Dari studi di atas, tampaknya kita harus mempelajari lebih jauh dari sekedar melihat *mean* dan variance. Kita harus melihat *higher order moments*, dalam hal ini terutama adalah *skewness* dan *kurtosis*.\n",
    "\n",
    "***Skewness*** adalah ukuran dari simetri sebuah distribusi. Kita tahu bahwa distribusi normal adalah simetris; probabilitas untuk mendapatkan suatu nilai di atas dan di bawah *mean* (misalnya +1% dan -1% di atas/bawah *mean*) adalah sama. Jika distribusinya mempunyai *skew* yang negatif, artinya kemungkinan untuk mendapatkan sampel di bawah *mean* lebih besar dari pada kemungkinan mendapatkan sampel di atas *mean*. Distribusi Normal mempunyai nilai *skewness* nol.\n",
    "\n",
    "***Kurtosis*** adalah ukulan ketebalan dari ekor distribusi. Kita tahu bahwa distribusi Normal mempunyai ekor yang sangat tipis. Distribusi probabilitasnya turun secara drastis menuju nol. Distribusi Normal mempunyai nilai kurtosis tiga. Nilai kurtosis lebih besar dari tiga berarti distribusi tersebut mempunyai ekor yang tebal (*fat tail*).\n",
    "\n",
    "***Excess kurtosis*** adalah nilai kurtosis sebuah distribusi dikurangi tiga. Untuk distribusi normal, *excess kurtosis* bernilai nol."
   ]
  },
  {
   "cell_type": "markdown",
   "metadata": {},
   "source": [
    "### Menghitung Skewness dan Kurtosis dengan Python\n",
    "\n",
    "Di Python sudah tersedia fungsi untuk menghitung *skewness* dan *excess kurtosis*.\n",
    "\n",
    "Mari kita gunakan pertama untuk data buatan yang seharusnya berdistribusi Normal."
   ]
  },
  {
   "cell_type": "code",
   "execution_count": 56,
   "metadata": {
    "collapsed": false
   },
   "outputs": [
    {
     "name": "stdout",
     "output_type": "stream",
     "text": [
      "Skewness: -0.0724528633004505, excess kurtosis: -0.1457844461820641\n"
     ]
    }
   ],
   "source": [
    "from scipy.stats import kurtosis, skew\n",
    "\n",
    "sk = skew(norm_returns)\n",
    "kr = kurtosis(norm_returns)\n",
    "print('Skewness: {}, excess kurtosis: {}'.format(sk, kr))"
   ]
  },
  {
   "cell_type": "markdown",
   "metadata": {},
   "source": [
    "Seharusnya kedua nilai di atas adalah nol, tapi sekali lagi hal ini disebabkan karena jumlah sampel kita cukup sedikit.\n",
    "\n",
    "Sekarang mari kita hitung untuk *return* dari *SmallCap*."
   ]
  },
  {
   "cell_type": "code",
   "execution_count": 57,
   "metadata": {
    "collapsed": false
   },
   "outputs": [
    {
     "name": "stdout",
     "output_type": "stream",
     "text": [
      "Skewness: 4.410738610114986, excess kurtosis: 43.84500784472658\n"
     ]
    }
   ],
   "source": [
    "sk = skew(returns['SmallCap'])\n",
    "kr = kurtosis(returns['SmallCap'])\n",
    "print('Skewness: {}, excess kurtosis: {}'.format(sk, kr))"
   ]
  },
  {
   "cell_type": "markdown",
   "metadata": {},
   "source": [
    "Seperti terlihat, angka-angkanya jauh menyimpang dari nol, sehingga dapat disimpulkan distribusinya bukan Normal."
   ]
  },
  {
   "cell_type": "markdown",
   "metadata": {},
   "source": [
    "### Tes Normalitas dengan Jargue Bera\n",
    "\n",
    "Tes [Jargue Bera](https://en.wikipedia.org/wiki/Jarque%E2%80%93Bera_test) dapat digunakan untuk mentes apakah suatu sampel data mempunyai *skewness* dan kurtosis yang cocok dengan distribusi Normal.\n",
    "\n",
    "Tes ini juga sudah diimplementasikan di Python. Catatan: Jargue-Bera test membutuhkan data paling tidak 2000 sampel, sedangkan data kita hanya 1100, jadi hasilnya mungkin tidak sepenuhnya benar."
   ]
  },
  {
   "cell_type": "code",
   "execution_count": 86,
   "metadata": {
    "collapsed": false
   },
   "outputs": [
    {
     "name": "stdout",
     "output_type": "stream",
     "text": [
      "Distribusinya normal (pval: 0.38)\n",
      "Distribusinya bukan normal (pval: 0.00)\n"
     ]
    }
   ],
   "source": [
    "from scipy.stats import jarque_bera\n",
    "\n",
    "_, pval = jarque_bera(norm_returns)\n",
    "print('Distribusinya {} (pval: {:.2f})'.format('normal' if pval >= 0.05 else 'bukan normal', pval))\n",
    "\n",
    "_, pval = jarque_bera(returns['SmallCap'])\n",
    "print('Distribusinya {} (pval: {:.2f})'.format('normal' if pval >= 0.05 else 'bukan normal', pval))"
   ]
  },
  {
   "cell_type": "markdown",
   "metadata": {
    "collapsed": true
   },
   "source": [
    "## Referensi dan Atribusi\n",
    "\n",
    "Sebagian besar materi di sini diambil dari materi minggu 1 dari MOOC [Introduction to Portfolio Construction and Analysis with Python](https://www.coursera.org/learn/introduction-portfolio-construction-python)."
   ]
  },
  {
   "cell_type": "code",
   "execution_count": null,
   "metadata": {
    "collapsed": true
   },
   "outputs": [],
   "source": []
  }
 ],
 "metadata": {
  "anaconda-cloud": {},
  "kernelspec": {
   "display_name": "Python 3",
   "language": "python",
   "name": "python [root]"
  },
  "language_info": {
   "codemirror_mode": {
    "name": "ipython",
    "version": 3
   },
   "file_extension": ".py",
   "mimetype": "text/x-python",
   "name": "python",
   "nbconvert_exporter": "python",
   "pygments_lexer": "ipython3",
   "version": "3.5.3"
  }
 },
 "nbformat": 4,
 "nbformat_minor": 0
}
